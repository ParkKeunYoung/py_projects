{
 "cells": [
  {
   "cell_type": "markdown",
   "metadata": {},
   "source": [
    "## 데이터획득\n",
    "\n",
    "* api 사용\n",
    "* naver open api를 활용\n",
    "* urllib.request 모듈을 사용하여 통신처리 후 JSON 피싱을 통한 데이터 추출"
   ]
  },
  {
   "cell_type": "code",
   "execution_count": 2,
   "metadata": {},
   "outputs": [],
   "source": [
    "import urllib.request\n",
    "import os\n",
    "import sys"
   ]
  },
  {
   "cell_type": "markdown",
   "metadata": {},
   "source": [
    "#### naver API 사용을 위한 키(KEY)"
   ]
  },
  {
   "cell_type": "code",
   "execution_count": 23,
   "metadata": {},
   "outputs": [],
   "source": [
    "Client_ID     = 'q9NEpl6niEE2RxMRkhpS'\n",
    "Client_Secret = 'yHqi17quim'"
   ]
  },
  {
   "cell_type": "markdown",
   "metadata": {},
   "source": [
    "* 통신할 URL 정의\n",
    "* parameter 정의 ( get 방식 or post 방식에 맞춰 구성 )\n",
    "* header에 위에서 정의한 키 및 응답 데이터 포멧에 대한 구성 추가\n",
    "* 통신 -> 응답 코드를 확인 : 200번 경우 (통신성공코드) -> 응답데이터에서 json 데이터획득\n",
    "* json 데이터에서 [ 가공 및 전처리는 일단 배제 ] 데이터를 적제(csv 혹은 xis 혹은 database)"
   ]
  },
  {
   "cell_type": "code",
   "execution_count": 41,
   "metadata": {},
   "outputs": [
    {
     "data": {
      "text/plain": [
       "'https://openapi.naver.com/v1/datalab/search'"
      ]
     },
     "execution_count": 41,
     "metadata": {},
     "output_type": "execute_result"
    }
   ],
   "source": [
    "# 네이버 통합 검색어 트렌드 조회 URL\n",
    "url = \"https://openapi.naver.com/v1/datalab/search\"\n",
    "url"
   ]
  },
  {
   "cell_type": "code",
   "execution_count": 42,
   "metadata": {},
   "outputs": [
    {
     "data": {
      "text/plain": [
       "'{\"startDate\":\"2019-07-09\",\"endDate\":\"2019-08-06\",\"timeUnit\":\"month\",\"keywordGroups\":[{\"groupName\":\"대한민국\",\"keywords\":[\"대한민국\",\"korean\"]},{\"groupName\":\"일본\",\"keywords\":[\"일본\",\"japan\"]}],\"device\":\"pc\",\"ages\":[\"3\",\"4\"],\"gender\":\"f\"}'"
      ]
     },
     "execution_count": 42,
     "metadata": {},
     "output_type": "execute_result"
    }
   ],
   "source": [
    "body = '{\"startDate\":\"2019-07-09\",\"endDate\":\"2019-08-06\",\"timeUnit\":\"month\",\"keywordGroups\":[{\"groupName\":\"대한민국\",\"keywords\":[\"대한민국\",\"korean\"]},{\"groupName\":\"일본\",\"keywords\":[\"일본\",\"japan\"]}],\"device\":\"pc\",\"ages\":[\"3\",\"4\"],\"gender\":\"f\"}';\n",
    "body"
   ]
  },
  {
   "cell_type": "code",
   "execution_count": 43,
   "metadata": {},
   "outputs": [],
   "source": [
    "# 통신 객체 생성\n",
    "request = urllib.request.Request(url)\n",
    "# 헤더 설정\n",
    "request.add_header(\"X-Naver-Client-Id\",Client_ID)\n",
    "request.add_header(\"X-Naver-Client-Secret\",Client_Secret)\n",
    "request.add_header(\"Content-Type\",\"application/json\")"
   ]
  },
  {
   "cell_type": "code",
   "execution_count": 44,
   "metadata": {},
   "outputs": [],
   "source": [
    "# 실제 통신 : post방식\n",
    "# 한글 데이터를 그대로 전송하면 오류 발생 => body.encode(\"utf-8\") 처리\n",
    "response = urllib.request.urlopen(request, data=body.encode(\"utf-8\"))"
   ]
  },
  {
   "cell_type": "code",
   "execution_count": 45,
   "metadata": {},
   "outputs": [
    {
     "data": {
      "text/plain": [
       "<http.client.HTTPResponse at 0x244ffe5e978>"
      ]
     },
     "execution_count": 45,
     "metadata": {},
     "output_type": "execute_result"
    }
   ],
   "source": [
    "response"
   ]
  },
  {
   "cell_type": "code",
   "execution_count": 46,
   "metadata": {},
   "outputs": [
    {
     "name": "stdout",
     "output_type": "stream",
     "text": [
      "{\"startDate\":\"2019-07-01\",\"endDate\":\"2019-08-07\",\"timeUnit\":\"month\",\"results\":[{\"title\":\"대한민국\",\"keywords\":[\"대한민국\",\"korean\"],\"data\":[{\"period\":\"2019-07-01\",\"ratio\":17.93314},{\"period\":\"2019-08-01\",\"ratio\":3.91837}]},{\"title\":\"일본\",\"keywords\":[\"일본\",\"japan\"],\"data\":[{\"period\":\"2019-07-01\",\"ratio\":100},{\"period\":\"2019-08-01\",\"ratio\":31.18427}]}]}\n"
     ]
    }
   ],
   "source": [
    "# 응답 코드가 정상이면\n",
    "\n",
    "rescode = response.getcode()\n",
    "if(rescode==200):\n",
    "    # 실제 응답 데이터를 획득\n",
    "    response_body = response.read()\n",
    "    print(response_body.decode('utf-8'))\n",
    "else:\n",
    "    print(\"Error Code:\" + rescode)"
   ]
  },
  {
   "cell_type": "code",
   "execution_count": null,
   "metadata": {},
   "outputs": [],
   "source": []
  },
  {
   "cell_type": "code",
   "execution_count": 50,
   "metadata": {},
   "outputs": [
    {
     "data": {
      "text/plain": [
       "'https://openapi.naver.com/v1/search/news.json'"
      ]
     },
     "execution_count": 50,
     "metadata": {},
     "output_type": "execute_result"
    }
   ],
   "source": [
    "# 뉴스 검색\n",
    "news_url = 'https://openapi.naver.com/v1/search/news.json'\n",
    "news_url"
   ]
  },
  {
   "cell_type": "code",
   "execution_count": 52,
   "metadata": {},
   "outputs": [
    {
     "data": {
      "text/plain": [
       "'query=%ED%85%8C%EB%8B%88%EC%8A%A4&display=10&start=1&sort=date'"
      ]
     },
     "execution_count": 52,
     "metadata": {},
     "output_type": "execute_result"
    }
   ],
   "source": [
    "# 파라미터\n",
    "keyword = urllib.parse.quote('테니스')\n",
    "news_param = 'query=%s&display=%s&start=%s&sort=%s' % (keyword, 10, 1, 'date')\n",
    "news_param"
   ]
  },
  {
   "cell_type": "code",
   "execution_count": 53,
   "metadata": {},
   "outputs": [
    {
     "data": {
      "text/plain": [
       "'https://openapi.naver.com/v1/search/news.json?query=%ED%85%8C%EB%8B%88%EC%8A%A4&display=10&start=1&sort=date'"
      ]
     },
     "execution_count": 53,
     "metadata": {},
     "output_type": "execute_result"
    }
   ],
   "source": [
    "url = '%s?%s' %(news_url, news_param)\n",
    "url"
   ]
  },
  {
   "cell_type": "code",
   "execution_count": 55,
   "metadata": {},
   "outputs": [],
   "source": [
    "# 통신 객체 생성\n",
    "request = urllib.request.Request(url)\n",
    "# 헤더 설정\n",
    "request.add_header(\"X-Naver-Client-Id\",Client_ID)\n",
    "request.add_header(\"X-Naver-Client-Secret\",Client_Secret)"
   ]
  },
  {
   "cell_type": "code",
   "execution_count": 56,
   "metadata": {},
   "outputs": [],
   "source": [
    "# 실제 통신\n",
    "response = urllib.request.urlopen(request)"
   ]
  },
  {
   "cell_type": "code",
   "execution_count": 57,
   "metadata": {},
   "outputs": [
    {
     "name": "stdout",
     "output_type": "stream",
     "text": [
      "{\n",
      "\"lastBuildDate\": \"Wed, 07 Aug 2019 15:38:18 +0900\",\n",
      "\"total\": 291291,\n",
      "\"start\": 1,\n",
      "\"display\": 10,\n",
      "\"items\": [\n",
      "{\n",
      "\"title\": \"정현, 복귀 후 쾌조의 6연승…요카이치 챌린저 16강 진출\",\n",
      "\"originallink\": \"http://www.youthdaily.co.kr/news/article.html?no=14991\",\n",
      "\"link\": \"http://www.youthdaily.co.kr/news/article.html?no=14991\",\n",
      "\"description\": \"정현은 7일 일본 미에현 요카이치에서 열린 남자프로<b>테니스</b>(ATP) 요카이치 챌린저(총상금 5만4160달러) 대회 사흘째 단식 본선 2회전에서 매슈 크리스토퍼 로미오스(597위·호주)를 2-0(6-3 6-1)으로 완파했다. 2월... \",\n",
      "\"pubDate\": \"Wed, 07 Aug 2019 15:33:00 +0900\"\n",
      "\n",
      "},\n",
      "{\n",
      "\"title\": \"정현, 부상 복귀 후 6연승…요카이치 챌린저 16강행\",\n",
      "\"originallink\": \"https://news.sbs.co.kr/news/endPage.do?news_id=N1005386406&plink=ORI&cooper=NAVER\",\n",
      "\"link\": \"http://sports.news.naver.com/general/news/read.nhn?oid=055&aid=0000750520\",\n",
      "\"description\": \"한국 <b>테니스</b>의 간판 정현(141위·한국체대)이 부상 복귀 후 쾌조의 6연승을 내달렸습니다. 정현은 7일 일본 미에현 요카이치에서 열린 남자프로<b>테니스</b>(ATP) 요카이치 챌린저(총상금 5만 4천160달러) 사흘째 단식 본선... \",\n",
      "\"pubDate\": \"Wed, 07 Aug 2019 15:21:00 +0900\"\n",
      "\n",
      "},\n",
      "{\n",
      "\"title\": \"실업<b>테니스</b>연맹전 함양대회서 대구시청·도로공사 남녀단체전 우승\",\n",
      "\"originallink\": \"http://news1.kr/articles/?3690272\",\n",
      "\"link\": \"https://news.naver.com/main/read.nhn?mode=LSD&mid=sec&sid1=102&oid=421&aid=0004134434\",\n",
      "\"description\": \"지난 2일부터 오는 11일까지 열흘간 경남 함양군 생활체육공원 <b>테니스</b>경기장에서 '2019년 2차 한국실업<b>테니스</b>연맹전 함양대회'가 열리고 있는 가운데 대구시청과 한국도로공사가 각각 남녀 단체전 우승을 차지했다.... \",\n",
      "\"pubDate\": \"Wed, 07 Aug 2019 15:18:00 +0900\"\n",
      "\n",
      "},\n",
      "{\n",
      "\"title\": \"'복귀 후 6연승' 정현, 요카이치 챌린저 16강 진출\",\n",
      "\"originallink\": \"http://www.spotvnews.co.kr/?mod=news&act=articleView&idxno=308220\",\n",
      "\"link\": \"http://sports.news.naver.com/general/news/read.nhn?oid=477&aid=0000200171\",\n",
      "\"description\": \"정현은 7일 일본 미에현 요카이치에서 열린 남자 프로 <b>테니스</b>(ATP) 투어 요카이치 챌린저 대회 단식 2회전에서 호주의 매슈 크리스토퍼 로미오스(세계 랭킹 697위)를 2-0(6-3 6-1)으로 제압했다. 정현은 지난 2월... \",\n",
      "\"pubDate\": \"Wed, 07 Aug 2019 15:17:00 +0900\"\n",
      "\n",
      "},\n",
      "{\n",
      "\"title\": \"중국 하남성 유소년 축구단, 경산시 선진 축구 배우러 왔어요\",\n",
      "\"originallink\": \"http://www.idaegu.com/newsView/idg201908070031\",\n",
      "\"link\": \"http://www.idaegu.com/newsView/idg201908070031\",\n",
      "\"description\": \"중국방문단은 경산시 삼성현문화박물관과 경산생활체육공원을 방문해 경산의 역사를 배우고 경산실내체육관, 수영장, 시민운동장, 럭비구장, <b>테니스</b>장과 VR 체험관 등 경학을 통해 시민을 위한 체육시설과 복지에... \",\n",
      "\"pubDate\": \"Wed, 07 Aug 2019 15:04:00 +0900\"\n",
      "\n",
      "},\n",
      "{\n",
      "\"title\": \"[스포츠 평론가 기영노 콩트 22] 토트넘 손흥민과 집행유예\",\n",
      "\"originallink\": \"https://www.horsebiz.co.kr/news/articleView.html?idxno=38310\",\n",
      "\"link\": \"https://www.horsebiz.co.kr/news/articleView.html?idxno=38310\",\n",
      "\"description\": \"상상력을 바탕으로 쓴 기영노 콩트는 축구, <b>테니스</b>, 야구 등 각 스포츠 규칙을 콩트 형식을 빌려 쉽고 재미있게 풀어쓰는 기획 연재입니다. 는 월간 &lt;베이스볼&gt;, &lt;민주일보&gt;, &lt;일요신문&gt;에서 스포츠 전문 기자 생활을... \",\n",
      "\"pubDate\": \"Wed, 07 Aug 2019 14:57:00 +0900\"\n",
      "\n",
      "},\n",
      "{\n",
      "\"title\": \"정현, 부상 복귀 후 쾌조의 6연승…요카이치 챌린저 16강 진출\",\n",
      "\"originallink\": \"http://news.chosun.com/site/data/html_dir/2019/08/07/2019080701565.html?utm_source=naver&utm_medium=original&utm_campaign=news\",\n",
      "\"link\": \"http://sports.news.naver.com/general/news/read.nhn?oid=023&aid=0003465722\",\n",
      "\"description\": \"허리 부상에서 돌아온 한국 <b>테니스</b>의 간판 정현(141위·한국체대)이 쾌조의 6연승을 기록했다. 정현은 7일 일본 미에현 요카이치에서 열린 남자프로<b>테니스</b>(ATP) 요카이치 챌린저(총상금 5만4160달러) 대회 사흘째 단식... \",\n",
      "\"pubDate\": \"Wed, 07 Aug 2019 14:51:00 +0900\"\n",
      "\n",
      "},\n",
      "{\n",
      "\"title\": \"정현, 복귀 후 6연승 행진..2개 대회 연속 우승 기대\",\n",
      "\"originallink\": \"http://starin.edaily.co.kr/news/newspath.asp?newsid=01210326622585024\",\n",
      "\"link\": \"http://sports.news.naver.com/general/news/read.nhn?oid=018&aid=0004440399\",\n",
      "\"description\": \"(사진=AFPBBNews)[이데일리 스타in 주영로 기자] 한국 남자 <b>테니스</b>의 간판 정현(23)이 부상 복귀 후 6연승 행진했다. 정현은 7일 일본 미에현 요카이치에서 열린 남자프로<b>테니스</b>(ATP) 요카이치 챌린저(총상금 5만4160달러)... \",\n",
      "\"pubDate\": \"Wed, 07 Aug 2019 14:49:00 +0900\"\n",
      "\n",
      "},\n",
      "{\n",
      "\"title\": \"[<b>테니스</b>] 정현, 요카이치 챌린저 16강행... 복귀 후 6연승\",\n",
      "\"originallink\": \"http://www.newspim.com/news/view/20190807001175\",\n",
      "\"link\": \"http://www.newspim.com/news/view/20190807001175\",\n",
      "\"description\": \"정현(24·141위·한국체대)은 7일 일본 미에현 요카이치에서 열린 남자프로<b>테니스</b>(ATP) 요카이치 챌린저(총상금 5만4160달러) 대회 사흘째 단식 본선 2회전서 매튜 크리스토퍼 로미오스(20·597위·호주)를 2대0(6-3 6-1)... \",\n",
      "\"pubDate\": \"Wed, 07 Aug 2019 14:44:00 +0900\"\n",
      "\n",
      "},\n",
      "{\n",
      "\"title\": \"함양군, 실업<b>테니스</b>연맹전 개최…대구시청·도로공사 남녀단체전 우승\",\n",
      "\"originallink\": \"http://www.ajunews.com/view/20190807130528398\",\n",
      "\"link\": \"http://www.ajunews.com/view/20190807130528398\",\n",
      "\"description\": \"com 함양군 생활체육공원 <b>테니스</b> 경기장에서 뒷쪽 우승팀 한국도로공사 앞쪽 준우승팀 기념촬영창원시청[함양군 제공] 경남 함양군에서 지난 2일부터 11일까지 열흘 동안 함양군 생활체육공원 <b>테니스</b> 경기장에서 2019년... \",\n",
      "\"pubDate\": \"Wed, 07 Aug 2019 14:38:00 +0900\"\n",
      "\n",
      "}\n",
      "]\n",
      "}\n",
      "\n"
     ]
    }
   ],
   "source": [
    "# 응답 코드가 정상이면\n",
    "\n",
    "rescode = response.getcode()\n",
    "if(rescode==200):\n",
    "    # 실제 응답 데이터를 획득\n",
    "    response_body = response.read()\n",
    "    print(response_body.decode('utf-8'))\n",
    "else:\n",
    "    print(\"Error Code:\" + rescode)"
   ]
  },
  {
   "cell_type": "code",
   "execution_count": 58,
   "metadata": {},
   "outputs": [
    {
     "data": {
      "text/plain": [
       "'{\\n\"lastBuildDate\": \"Wed, 07 Aug 2019 15:38:18 +0900\",\\n\"total\": 291291,\\n\"start\": 1,\\n\"display\": 10,\\n\"items\": [\\n{\\n\"title\": \"정현, 복귀 후 쾌조의 6연승…요카이치 챌린저 16강 진출\",\\n\"originallink\": \"http://www.youthdaily.co.kr/news/article.html?no=14991\",\\n\"link\": \"http://www.youthdaily.co.kr/news/article.html?no=14991\",\\n\"description\": \"정현은 7일 일본 미에현 요카이치에서 열린 남자프로<b>테니스</b>(ATP) 요카이치 챌린저(총상금 5만4160달러) 대회 사흘째 단식 본선 2회전에서 매슈 크리스토퍼 로미오스(597위·호주)를 2-0(6-3 6-1)으로 완파했다. 2월... \",\\n\"pubDate\": \"Wed, 07 Aug 2019 15:33:00 +0900\"\\n\\n},\\n{\\n\"title\": \"정현, 부상 복귀 후 6연승…요카이치 챌린저 16강행\",\\n\"originallink\": \"https://news.sbs.co.kr/news/endPage.do?news_id=N1005386406&plink=ORI&cooper=NAVER\",\\n\"link\": \"http://sports.news.naver.com/general/news/read.nhn?oid=055&aid=0000750520\",\\n\"description\": \"한국 <b>테니스</b>의 간판 정현(141위·한국체대)이 부상 복귀 후 쾌조의 6연승을 내달렸습니다. 정현은 7일 일본 미에현 요카이치에서 열린 남자프로<b>테니스</b>(ATP) 요카이치 챌린저(총상금 5만 4천160달러) 사흘째 단식 본선... \",\\n\"pubDate\": \"Wed, 07 Aug 2019 15:21:00 +0900\"\\n\\n},\\n{\\n\"title\": \"실업<b>테니스</b>연맹전 함양대회서 대구시청·도로공사 남녀단체전 우승\",\\n\"originallink\": \"http://news1.kr/articles/?3690272\",\\n\"link\": \"https://news.naver.com/main/read.nhn?mode=LSD&mid=sec&sid1=102&oid=421&aid=0004134434\",\\n\"description\": \"지난 2일부터 오는 11일까지 열흘간 경남 함양군 생활체육공원 <b>테니스</b>경기장에서 \\'2019년 2차 한국실업<b>테니스</b>연맹전 함양대회\\'가 열리고 있는 가운데 대구시청과 한국도로공사가 각각 남녀 단체전 우승을 차지했다.... \",\\n\"pubDate\": \"Wed, 07 Aug 2019 15:18:00 +0900\"\\n\\n},\\n{\\n\"title\": \"\\'복귀 후 6연승\\' 정현, 요카이치 챌린저 16강 진출\",\\n\"originallink\": \"http://www.spotvnews.co.kr/?mod=news&act=articleView&idxno=308220\",\\n\"link\": \"http://sports.news.naver.com/general/news/read.nhn?oid=477&aid=0000200171\",\\n\"description\": \"정현은 7일 일본 미에현 요카이치에서 열린 남자 프로 <b>테니스</b>(ATP) 투어 요카이치 챌린저 대회 단식 2회전에서 호주의 매슈 크리스토퍼 로미오스(세계 랭킹 697위)를 2-0(6-3 6-1)으로 제압했다. 정현은 지난 2월... \",\\n\"pubDate\": \"Wed, 07 Aug 2019 15:17:00 +0900\"\\n\\n},\\n{\\n\"title\": \"중국 하남성 유소년 축구단, 경산시 선진 축구 배우러 왔어요\",\\n\"originallink\": \"http://www.idaegu.com/newsView/idg201908070031\",\\n\"link\": \"http://www.idaegu.com/newsView/idg201908070031\",\\n\"description\": \"중국방문단은 경산시 삼성현문화박물관과 경산생활체육공원을 방문해 경산의 역사를 배우고 경산실내체육관, 수영장, 시민운동장, 럭비구장, <b>테니스</b>장과 VR 체험관 등 경학을 통해 시민을 위한 체육시설과 복지에... \",\\n\"pubDate\": \"Wed, 07 Aug 2019 15:04:00 +0900\"\\n\\n},\\n{\\n\"title\": \"[스포츠 평론가 기영노 콩트 22] 토트넘 손흥민과 집행유예\",\\n\"originallink\": \"https://www.horsebiz.co.kr/news/articleView.html?idxno=38310\",\\n\"link\": \"https://www.horsebiz.co.kr/news/articleView.html?idxno=38310\",\\n\"description\": \"상상력을 바탕으로 쓴 기영노 콩트는 축구, <b>테니스</b>, 야구 등 각 스포츠 규칙을 콩트 형식을 빌려 쉽고 재미있게 풀어쓰는 기획 연재입니다. 는 월간 &lt;베이스볼&gt;, &lt;민주일보&gt;, &lt;일요신문&gt;에서 스포츠 전문 기자 생활을... \",\\n\"pubDate\": \"Wed, 07 Aug 2019 14:57:00 +0900\"\\n\\n},\\n{\\n\"title\": \"정현, 부상 복귀 후 쾌조의 6연승…요카이치 챌린저 16강 진출\",\\n\"originallink\": \"http://news.chosun.com/site/data/html_dir/2019/08/07/2019080701565.html?utm_source=naver&utm_medium=original&utm_campaign=news\",\\n\"link\": \"http://sports.news.naver.com/general/news/read.nhn?oid=023&aid=0003465722\",\\n\"description\": \"허리 부상에서 돌아온 한국 <b>테니스</b>의 간판 정현(141위·한국체대)이 쾌조의 6연승을 기록했다. 정현은 7일 일본 미에현 요카이치에서 열린 남자프로<b>테니스</b>(ATP) 요카이치 챌린저(총상금 5만4160달러) 대회 사흘째 단식... \",\\n\"pubDate\": \"Wed, 07 Aug 2019 14:51:00 +0900\"\\n\\n},\\n{\\n\"title\": \"정현, 복귀 후 6연승 행진..2개 대회 연속 우승 기대\",\\n\"originallink\": \"http://starin.edaily.co.kr/news/newspath.asp?newsid=01210326622585024\",\\n\"link\": \"http://sports.news.naver.com/general/news/read.nhn?oid=018&aid=0004440399\",\\n\"description\": \"(사진=AFPBBNews)[이데일리 스타in 주영로 기자] 한국 남자 <b>테니스</b>의 간판 정현(23)이 부상 복귀 후 6연승 행진했다. 정현은 7일 일본 미에현 요카이치에서 열린 남자프로<b>테니스</b>(ATP) 요카이치 챌린저(총상금 5만4160달러)... \",\\n\"pubDate\": \"Wed, 07 Aug 2019 14:49:00 +0900\"\\n\\n},\\n{\\n\"title\": \"[<b>테니스</b>] 정현, 요카이치 챌린저 16강행... 복귀 후 6연승\",\\n\"originallink\": \"http://www.newspim.com/news/view/20190807001175\",\\n\"link\": \"http://www.newspim.com/news/view/20190807001175\",\\n\"description\": \"정현(24·141위·한국체대)은 7일 일본 미에현 요카이치에서 열린 남자프로<b>테니스</b>(ATP) 요카이치 챌린저(총상금 5만4160달러) 대회 사흘째 단식 본선 2회전서 매튜 크리스토퍼 로미오스(20·597위·호주)를 2대0(6-3 6-1)... \",\\n\"pubDate\": \"Wed, 07 Aug 2019 14:44:00 +0900\"\\n\\n},\\n{\\n\"title\": \"함양군, 실업<b>테니스</b>연맹전 개최…대구시청·도로공사 남녀단체전 우승\",\\n\"originallink\": \"http://www.ajunews.com/view/20190807130528398\",\\n\"link\": \"http://www.ajunews.com/view/20190807130528398\",\\n\"description\": \"com 함양군 생활체육공원 <b>테니스</b> 경기장에서 뒷쪽 우승팀 한국도로공사 앞쪽 준우승팀 기념촬영창원시청[함양군 제공] 경남 함양군에서 지난 2일부터 11일까지 열흘 동안 함양군 생활체육공원 <b>테니스</b> 경기장에서 2019년... \",\\n\"pubDate\": \"Wed, 07 Aug 2019 14:38:00 +0900\"\\n\\n}\\n]\\n}\\n'"
      ]
     },
     "execution_count": 58,
     "metadata": {},
     "output_type": "execute_result"
    }
   ],
   "source": [
    "response_body.decode('utf-8')"
   ]
  },
  {
   "cell_type": "code",
   "execution_count": 59,
   "metadata": {},
   "outputs": [
    {
     "data": {
      "text/plain": [
       "str"
      ]
     },
     "execution_count": 59,
     "metadata": {},
     "output_type": "execute_result"
    }
   ],
   "source": [
    "tmp  = type(response_body.decode('utf-8'))\n",
    "tmp"
   ]
  },
  {
   "cell_type": "code",
   "execution_count": null,
   "metadata": {},
   "outputs": [],
   "source": [
    "# 원하는 데이터를 추출 ==> 파싱 ==> xml, json 같은 형식을 취해야한다."
   ]
  },
  {
   "cell_type": "code",
   "execution_count": 70,
   "metadata": {},
   "outputs": [],
   "source": [
    "response = urllib.request.urlopen(request)"
   ]
  },
  {
   "cell_type": "code",
   "execution_count": 71,
   "metadata": {},
   "outputs": [],
   "source": [
    "import json"
   ]
  },
  {
   "cell_type": "code",
   "execution_count": 72,
   "metadata": {},
   "outputs": [
    {
     "data": {
      "text/plain": [
       "{'lastBuildDate': 'Wed, 07 Aug 2019 15:41:41 +0900',\n",
       " 'total': 291292,\n",
       " 'start': 1,\n",
       " 'display': 10,\n",
       " 'items': [{'title': '세레나 윌리엄스 원톱, 메시·호날두와 비교하면? [여성 스포츠선수 수입순위...',\n",
       "   'originallink': 'http://www.sportsq.co.kr/news/articleView.html?idxno=405072',\n",
       "   'link': 'http://www.sportsq.co.kr/news/articleView.html?idxno=405072',\n",
       "   'description': \"'<b>테니스</b> 여제' 세레나 윌리엄스가 여성 운동선수 수입 선두를 굳게 지켰다. 미국 경제전문지 포브스가 7일... 전부 <b>테니스</b> 선수들이 이름을 올렸다. 축구 알렉스 모건(미국·580만 달러)이 <b>테니스</b>를 제외한 선수 중엔... \",\n",
       "   'pubDate': 'Wed, 07 Aug 2019 15:38:00 +0900'},\n",
       "  {'title': '정현, 복귀 후 6연승…요카이치 챌린저 16강 진출',\n",
       "   'originallink': 'http://www.youthdaily.co.kr/news/article.html?no=14991',\n",
       "   'link': 'http://www.youthdaily.co.kr/news/article.html?no=14991',\n",
       "   'description': '정현은 7일 일본 미에현 요카이치에서 열린 남자프로<b>테니스</b>(ATP) 요카이치 챌린저(총상금 5만4160달러) 대회 사흘째 단식 본선 2회전에서 매슈 크리스토퍼 로미오스(597위·호주)를 2-0(6-3 6-1)으로 완파했다. 2월... ',\n",
       "   'pubDate': 'Wed, 07 Aug 2019 15:33:00 +0900'},\n",
       "  {'title': '정현, 부상 복귀 후 6연승…요카이치 챌린저 16강행',\n",
       "   'originallink': 'https://news.sbs.co.kr/news/endPage.do?news_id=N1005386406&plink=ORI&cooper=NAVER',\n",
       "   'link': 'http://sports.news.naver.com/general/news/read.nhn?oid=055&aid=0000750520',\n",
       "   'description': '한국 <b>테니스</b>의 간판 정현(141위·한국체대)이 부상 복귀 후 쾌조의 6연승을 내달렸습니다. 정현은 7일 일본 미에현 요카이치에서 열린 남자프로<b>테니스</b>(ATP) 요카이치 챌린저(총상금 5만 4천160달러) 사흘째 단식 본선... ',\n",
       "   'pubDate': 'Wed, 07 Aug 2019 15:21:00 +0900'},\n",
       "  {'title': '실업<b>테니스</b>연맹전 함양대회서 대구시청·도로공사 남녀단체전 우승',\n",
       "   'originallink': 'http://news1.kr/articles/?3690272',\n",
       "   'link': 'https://news.naver.com/main/read.nhn?mode=LSD&mid=sec&sid1=102&oid=421&aid=0004134434',\n",
       "   'description': \"지난 2일부터 오는 11일까지 열흘간 경남 함양군 생활체육공원 <b>테니스</b>경기장에서 '2019년 2차 한국실업<b>테니스</b>연맹전 함양대회'가 열리고 있는 가운데 대구시청과 한국도로공사가 각각 남녀 단체전 우승을 차지했다.... \",\n",
       "   'pubDate': 'Wed, 07 Aug 2019 15:18:00 +0900'},\n",
       "  {'title': \"'복귀 후 6연승' 정현, 요카이치 챌린저 16강 진출\",\n",
       "   'originallink': 'http://www.spotvnews.co.kr/?mod=news&act=articleView&idxno=308220',\n",
       "   'link': 'http://sports.news.naver.com/general/news/read.nhn?oid=477&aid=0000200171',\n",
       "   'description': '정현은 7일 일본 미에현 요카이치에서 열린 남자 프로 <b>테니스</b>(ATP) 투어 요카이치 챌린저 대회 단식 2회전에서 호주의 매슈 크리스토퍼 로미오스(세계 랭킹 697위)를 2-0(6-3 6-1)으로 제압했다. 정현은 지난 2월... ',\n",
       "   'pubDate': 'Wed, 07 Aug 2019 15:17:00 +0900'},\n",
       "  {'title': '중국 하남성 유소년 축구단, 경산시 선진 축구 배우러 왔어요',\n",
       "   'originallink': 'http://www.idaegu.com/newsView/idg201908070031',\n",
       "   'link': 'http://www.idaegu.com/newsView/idg201908070031',\n",
       "   'description': '중국방문단은 경산시 삼성현문화박물관과 경산생활체육공원을 방문해 경산의 역사를 배우고 경산실내체육관, 수영장, 시민운동장, 럭비구장, <b>테니스</b>장과 VR 체험관 등 경학을 통해 시민을 위한 체육시설과 복지에... ',\n",
       "   'pubDate': 'Wed, 07 Aug 2019 15:04:00 +0900'},\n",
       "  {'title': '[스포츠 평론가 기영노 콩트 22] 토트넘 손흥민과 집행유예',\n",
       "   'originallink': 'https://www.horsebiz.co.kr/news/articleView.html?idxno=38310',\n",
       "   'link': 'https://www.horsebiz.co.kr/news/articleView.html?idxno=38310',\n",
       "   'description': '상상력을 바탕으로 쓴 기영노 콩트는 축구, <b>테니스</b>, 야구 등 각 스포츠 규칙을 콩트 형식을 빌려 쉽고 재미있게 풀어쓰는 기획 연재입니다. 는 월간 &lt;베이스볼&gt;, &lt;민주일보&gt;, &lt;일요신문&gt;에서 스포츠 전문 기자 생활을... ',\n",
       "   'pubDate': 'Wed, 07 Aug 2019 14:57:00 +0900'},\n",
       "  {'title': '정현, 부상 복귀 후 쾌조의 6연승…요카이치 챌린저 16강 진출',\n",
       "   'originallink': 'http://news.chosun.com/site/data/html_dir/2019/08/07/2019080701565.html?utm_source=naver&utm_medium=original&utm_campaign=news',\n",
       "   'link': 'http://sports.news.naver.com/general/news/read.nhn?oid=023&aid=0003465722',\n",
       "   'description': '허리 부상에서 돌아온 한국 <b>테니스</b>의 간판 정현(141위·한국체대)이 쾌조의 6연승을 기록했다. 정현은 7일 일본 미에현 요카이치에서 열린 남자프로<b>테니스</b>(ATP) 요카이치 챌린저(총상금 5만4160달러) 대회 사흘째 단식... ',\n",
       "   'pubDate': 'Wed, 07 Aug 2019 14:51:00 +0900'},\n",
       "  {'title': '정현, 복귀 후 6연승 행진..2개 대회 연속 우승 기대',\n",
       "   'originallink': 'http://starin.edaily.co.kr/news/newspath.asp?newsid=01210326622585024',\n",
       "   'link': 'http://sports.news.naver.com/general/news/read.nhn?oid=018&aid=0004440399',\n",
       "   'description': '(사진=AFPBBNews)[이데일리 스타in 주영로 기자] 한국 남자 <b>테니스</b>의 간판 정현(23)이 부상 복귀 후 6연승 행진했다. 정현은 7일 일본 미에현 요카이치에서 열린 남자프로<b>테니스</b>(ATP) 요카이치 챌린저(총상금 5만4160달러)... ',\n",
       "   'pubDate': 'Wed, 07 Aug 2019 14:49:00 +0900'},\n",
       "  {'title': '[<b>테니스</b>] 정현, 요카이치 챌린저 16강행... 복귀 후 6연승',\n",
       "   'originallink': 'http://www.newspim.com/news/view/20190807001175',\n",
       "   'link': 'http://www.newspim.com/news/view/20190807001175',\n",
       "   'description': '정현(24·141위·한국체대)은 7일 일본 미에현 요카이치에서 열린 남자프로<b>테니스</b>(ATP) 요카이치 챌린저(총상금 5만4160달러) 대회 사흘째 단식 본선 2회전서 매튜 크리스토퍼 로미오스(20·597위·호주)를 2대0(6-3 6-1)... ',\n",
       "   'pubDate': 'Wed, 07 Aug 2019 14:44:00 +0900'}]}"
      ]
     },
     "execution_count": 72,
     "metadata": {},
     "output_type": "execute_result"
    }
   ],
   "source": [
    "tmp = json.load(response)\n",
    "tmp "
   ]
  },
  {
   "cell_type": "code",
   "execution_count": 73,
   "metadata": {},
   "outputs": [
    {
     "data": {
      "text/plain": [
       "dict"
      ]
     },
     "execution_count": 73,
     "metadata": {},
     "output_type": "execute_result"
    }
   ],
   "source": [
    "type(tmp)"
   ]
  },
  {
   "cell_type": "code",
   "execution_count": 76,
   "metadata": {},
   "outputs": [
    {
     "data": {
      "text/plain": [
       "[{'title': '세레나 윌리엄스 원톱, 메시·호날두와 비교하면? [여성 스포츠선수 수입순위...',\n",
       "  'originallink': 'http://www.sportsq.co.kr/news/articleView.html?idxno=405072',\n",
       "  'link': 'http://www.sportsq.co.kr/news/articleView.html?idxno=405072',\n",
       "  'description': \"'<b>테니스</b> 여제' 세레나 윌리엄스가 여성 운동선수 수입 선두를 굳게 지켰다. 미국 경제전문지 포브스가 7일... 전부 <b>테니스</b> 선수들이 이름을 올렸다. 축구 알렉스 모건(미국·580만 달러)이 <b>테니스</b>를 제외한 선수 중엔... \",\n",
       "  'pubDate': 'Wed, 07 Aug 2019 15:38:00 +0900'},\n",
       " {'title': '정현, 복귀 후 6연승…요카이치 챌린저 16강 진출',\n",
       "  'originallink': 'http://www.youthdaily.co.kr/news/article.html?no=14991',\n",
       "  'link': 'http://www.youthdaily.co.kr/news/article.html?no=14991',\n",
       "  'description': '정현은 7일 일본 미에현 요카이치에서 열린 남자프로<b>테니스</b>(ATP) 요카이치 챌린저(총상금 5만4160달러) 대회 사흘째 단식 본선 2회전에서 매슈 크리스토퍼 로미오스(597위·호주)를 2-0(6-3 6-1)으로 완파했다. 2월... ',\n",
       "  'pubDate': 'Wed, 07 Aug 2019 15:33:00 +0900'},\n",
       " {'title': '정현, 부상 복귀 후 6연승…요카이치 챌린저 16강행',\n",
       "  'originallink': 'https://news.sbs.co.kr/news/endPage.do?news_id=N1005386406&plink=ORI&cooper=NAVER',\n",
       "  'link': 'http://sports.news.naver.com/general/news/read.nhn?oid=055&aid=0000750520',\n",
       "  'description': '한국 <b>테니스</b>의 간판 정현(141위·한국체대)이 부상 복귀 후 쾌조의 6연승을 내달렸습니다. 정현은 7일 일본 미에현 요카이치에서 열린 남자프로<b>테니스</b>(ATP) 요카이치 챌린저(총상금 5만 4천160달러) 사흘째 단식 본선... ',\n",
       "  'pubDate': 'Wed, 07 Aug 2019 15:21:00 +0900'},\n",
       " {'title': '실업<b>테니스</b>연맹전 함양대회서 대구시청·도로공사 남녀단체전 우승',\n",
       "  'originallink': 'http://news1.kr/articles/?3690272',\n",
       "  'link': 'https://news.naver.com/main/read.nhn?mode=LSD&mid=sec&sid1=102&oid=421&aid=0004134434',\n",
       "  'description': \"지난 2일부터 오는 11일까지 열흘간 경남 함양군 생활체육공원 <b>테니스</b>경기장에서 '2019년 2차 한국실업<b>테니스</b>연맹전 함양대회'가 열리고 있는 가운데 대구시청과 한국도로공사가 각각 남녀 단체전 우승을 차지했다.... \",\n",
       "  'pubDate': 'Wed, 07 Aug 2019 15:18:00 +0900'},\n",
       " {'title': \"'복귀 후 6연승' 정현, 요카이치 챌린저 16강 진출\",\n",
       "  'originallink': 'http://www.spotvnews.co.kr/?mod=news&act=articleView&idxno=308220',\n",
       "  'link': 'http://sports.news.naver.com/general/news/read.nhn?oid=477&aid=0000200171',\n",
       "  'description': '정현은 7일 일본 미에현 요카이치에서 열린 남자 프로 <b>테니스</b>(ATP) 투어 요카이치 챌린저 대회 단식 2회전에서 호주의 매슈 크리스토퍼 로미오스(세계 랭킹 697위)를 2-0(6-3 6-1)으로 제압했다. 정현은 지난 2월... ',\n",
       "  'pubDate': 'Wed, 07 Aug 2019 15:17:00 +0900'},\n",
       " {'title': '중국 하남성 유소년 축구단, 경산시 선진 축구 배우러 왔어요',\n",
       "  'originallink': 'http://www.idaegu.com/newsView/idg201908070031',\n",
       "  'link': 'http://www.idaegu.com/newsView/idg201908070031',\n",
       "  'description': '중국방문단은 경산시 삼성현문화박물관과 경산생활체육공원을 방문해 경산의 역사를 배우고 경산실내체육관, 수영장, 시민운동장, 럭비구장, <b>테니스</b>장과 VR 체험관 등 경학을 통해 시민을 위한 체육시설과 복지에... ',\n",
       "  'pubDate': 'Wed, 07 Aug 2019 15:04:00 +0900'},\n",
       " {'title': '[스포츠 평론가 기영노 콩트 22] 토트넘 손흥민과 집행유예',\n",
       "  'originallink': 'https://www.horsebiz.co.kr/news/articleView.html?idxno=38310',\n",
       "  'link': 'https://www.horsebiz.co.kr/news/articleView.html?idxno=38310',\n",
       "  'description': '상상력을 바탕으로 쓴 기영노 콩트는 축구, <b>테니스</b>, 야구 등 각 스포츠 규칙을 콩트 형식을 빌려 쉽고 재미있게 풀어쓰는 기획 연재입니다. 는 월간 &lt;베이스볼&gt;, &lt;민주일보&gt;, &lt;일요신문&gt;에서 스포츠 전문 기자 생활을... ',\n",
       "  'pubDate': 'Wed, 07 Aug 2019 14:57:00 +0900'},\n",
       " {'title': '정현, 부상 복귀 후 쾌조의 6연승…요카이치 챌린저 16강 진출',\n",
       "  'originallink': 'http://news.chosun.com/site/data/html_dir/2019/08/07/2019080701565.html?utm_source=naver&utm_medium=original&utm_campaign=news',\n",
       "  'link': 'http://sports.news.naver.com/general/news/read.nhn?oid=023&aid=0003465722',\n",
       "  'description': '허리 부상에서 돌아온 한국 <b>테니스</b>의 간판 정현(141위·한국체대)이 쾌조의 6연승을 기록했다. 정현은 7일 일본 미에현 요카이치에서 열린 남자프로<b>테니스</b>(ATP) 요카이치 챌린저(총상금 5만4160달러) 대회 사흘째 단식... ',\n",
       "  'pubDate': 'Wed, 07 Aug 2019 14:51:00 +0900'},\n",
       " {'title': '정현, 복귀 후 6연승 행진..2개 대회 연속 우승 기대',\n",
       "  'originallink': 'http://starin.edaily.co.kr/news/newspath.asp?newsid=01210326622585024',\n",
       "  'link': 'http://sports.news.naver.com/general/news/read.nhn?oid=018&aid=0004440399',\n",
       "  'description': '(사진=AFPBBNews)[이데일리 스타in 주영로 기자] 한국 남자 <b>테니스</b>의 간판 정현(23)이 부상 복귀 후 6연승 행진했다. 정현은 7일 일본 미에현 요카이치에서 열린 남자프로<b>테니스</b>(ATP) 요카이치 챌린저(총상금 5만4160달러)... ',\n",
       "  'pubDate': 'Wed, 07 Aug 2019 14:49:00 +0900'},\n",
       " {'title': '[<b>테니스</b>] 정현, 요카이치 챌린저 16강행... 복귀 후 6연승',\n",
       "  'originallink': 'http://www.newspim.com/news/view/20190807001175',\n",
       "  'link': 'http://www.newspim.com/news/view/20190807001175',\n",
       "  'description': '정현(24·141위·한국체대)은 7일 일본 미에현 요카이치에서 열린 남자프로<b>테니스</b>(ATP) 요카이치 챌린저(총상금 5만4160달러) 대회 사흘째 단식 본선 2회전서 매튜 크리스토퍼 로미오스(20·597위·호주)를 2대0(6-3 6-1)... ',\n",
       "  'pubDate': 'Wed, 07 Aug 2019 14:44:00 +0900'}]"
      ]
     },
     "execution_count": 76,
     "metadata": {},
     "output_type": "execute_result"
    }
   ],
   "source": [
    "# 순서 >> 리스트 안에 목록 출력\n",
    "tmp['items']\n"
   ]
  },
  {
   "cell_type": "code",
   "execution_count": 77,
   "metadata": {},
   "outputs": [
    {
     "name": "stdout",
     "output_type": "stream",
     "text": [
      "{'title': '세레나 윌리엄스 원톱, 메시·호날두와 비교하면? [여성 스포츠선수 수입순위...', 'originallink': 'http://www.sportsq.co.kr/news/articleView.html?idxno=405072', 'link': 'http://www.sportsq.co.kr/news/articleView.html?idxno=405072', 'description': \"'<b>테니스</b> 여제' 세레나 윌리엄스가 여성 운동선수 수입 선두를 굳게 지켰다. 미국 경제전문지 포브스가 7일... 전부 <b>테니스</b> 선수들이 이름을 올렸다. 축구 알렉스 모건(미국·580만 달러)이 <b>테니스</b>를 제외한 선수 중엔... \", 'pubDate': 'Wed, 07 Aug 2019 15:38:00 +0900'}\n",
      "{'title': '정현, 복귀 후 6연승…요카이치 챌린저 16강 진출', 'originallink': 'http://www.youthdaily.co.kr/news/article.html?no=14991', 'link': 'http://www.youthdaily.co.kr/news/article.html?no=14991', 'description': '정현은 7일 일본 미에현 요카이치에서 열린 남자프로<b>테니스</b>(ATP) 요카이치 챌린저(총상금 5만4160달러) 대회 사흘째 단식 본선 2회전에서 매슈 크리스토퍼 로미오스(597위·호주)를 2-0(6-3 6-1)으로 완파했다. 2월... ', 'pubDate': 'Wed, 07 Aug 2019 15:33:00 +0900'}\n",
      "{'title': '정현, 부상 복귀 후 6연승…요카이치 챌린저 16강행', 'originallink': 'https://news.sbs.co.kr/news/endPage.do?news_id=N1005386406&plink=ORI&cooper=NAVER', 'link': 'http://sports.news.naver.com/general/news/read.nhn?oid=055&aid=0000750520', 'description': '한국 <b>테니스</b>의 간판 정현(141위·한국체대)이 부상 복귀 후 쾌조의 6연승을 내달렸습니다. 정현은 7일 일본 미에현 요카이치에서 열린 남자프로<b>테니스</b>(ATP) 요카이치 챌린저(총상금 5만 4천160달러) 사흘째 단식 본선... ', 'pubDate': 'Wed, 07 Aug 2019 15:21:00 +0900'}\n",
      "{'title': '실업<b>테니스</b>연맹전 함양대회서 대구시청·도로공사 남녀단체전 우승', 'originallink': 'http://news1.kr/articles/?3690272', 'link': 'https://news.naver.com/main/read.nhn?mode=LSD&mid=sec&sid1=102&oid=421&aid=0004134434', 'description': \"지난 2일부터 오는 11일까지 열흘간 경남 함양군 생활체육공원 <b>테니스</b>경기장에서 '2019년 2차 한국실업<b>테니스</b>연맹전 함양대회'가 열리고 있는 가운데 대구시청과 한국도로공사가 각각 남녀 단체전 우승을 차지했다.... \", 'pubDate': 'Wed, 07 Aug 2019 15:18:00 +0900'}\n",
      "{'title': \"'복귀 후 6연승' 정현, 요카이치 챌린저 16강 진출\", 'originallink': 'http://www.spotvnews.co.kr/?mod=news&act=articleView&idxno=308220', 'link': 'http://sports.news.naver.com/general/news/read.nhn?oid=477&aid=0000200171', 'description': '정현은 7일 일본 미에현 요카이치에서 열린 남자 프로 <b>테니스</b>(ATP) 투어 요카이치 챌린저 대회 단식 2회전에서 호주의 매슈 크리스토퍼 로미오스(세계 랭킹 697위)를 2-0(6-3 6-1)으로 제압했다. 정현은 지난 2월... ', 'pubDate': 'Wed, 07 Aug 2019 15:17:00 +0900'}\n",
      "{'title': '중국 하남성 유소년 축구단, 경산시 선진 축구 배우러 왔어요', 'originallink': 'http://www.idaegu.com/newsView/idg201908070031', 'link': 'http://www.idaegu.com/newsView/idg201908070031', 'description': '중국방문단은 경산시 삼성현문화박물관과 경산생활체육공원을 방문해 경산의 역사를 배우고 경산실내체육관, 수영장, 시민운동장, 럭비구장, <b>테니스</b>장과 VR 체험관 등 경학을 통해 시민을 위한 체육시설과 복지에... ', 'pubDate': 'Wed, 07 Aug 2019 15:04:00 +0900'}\n",
      "{'title': '[스포츠 평론가 기영노 콩트 22] 토트넘 손흥민과 집행유예', 'originallink': 'https://www.horsebiz.co.kr/news/articleView.html?idxno=38310', 'link': 'https://www.horsebiz.co.kr/news/articleView.html?idxno=38310', 'description': '상상력을 바탕으로 쓴 기영노 콩트는 축구, <b>테니스</b>, 야구 등 각 스포츠 규칙을 콩트 형식을 빌려 쉽고 재미있게 풀어쓰는 기획 연재입니다. 는 월간 &lt;베이스볼&gt;, &lt;민주일보&gt;, &lt;일요신문&gt;에서 스포츠 전문 기자 생활을... ', 'pubDate': 'Wed, 07 Aug 2019 14:57:00 +0900'}\n",
      "{'title': '정현, 부상 복귀 후 쾌조의 6연승…요카이치 챌린저 16강 진출', 'originallink': 'http://news.chosun.com/site/data/html_dir/2019/08/07/2019080701565.html?utm_source=naver&utm_medium=original&utm_campaign=news', 'link': 'http://sports.news.naver.com/general/news/read.nhn?oid=023&aid=0003465722', 'description': '허리 부상에서 돌아온 한국 <b>테니스</b>의 간판 정현(141위·한국체대)이 쾌조의 6연승을 기록했다. 정현은 7일 일본 미에현 요카이치에서 열린 남자프로<b>테니스</b>(ATP) 요카이치 챌린저(총상금 5만4160달러) 대회 사흘째 단식... ', 'pubDate': 'Wed, 07 Aug 2019 14:51:00 +0900'}\n",
      "{'title': '정현, 복귀 후 6연승 행진..2개 대회 연속 우승 기대', 'originallink': 'http://starin.edaily.co.kr/news/newspath.asp?newsid=01210326622585024', 'link': 'http://sports.news.naver.com/general/news/read.nhn?oid=018&aid=0004440399', 'description': '(사진=AFPBBNews)[이데일리 스타in 주영로 기자] 한국 남자 <b>테니스</b>의 간판 정현(23)이 부상 복귀 후 6연승 행진했다. 정현은 7일 일본 미에현 요카이치에서 열린 남자프로<b>테니스</b>(ATP) 요카이치 챌린저(총상금 5만4160달러)... ', 'pubDate': 'Wed, 07 Aug 2019 14:49:00 +0900'}\n",
      "{'title': '[<b>테니스</b>] 정현, 요카이치 챌린저 16강행... 복귀 후 6연승', 'originallink': 'http://www.newspim.com/news/view/20190807001175', 'link': 'http://www.newspim.com/news/view/20190807001175', 'description': '정현(24·141위·한국체대)은 7일 일본 미에현 요카이치에서 열린 남자프로<b>테니스</b>(ATP) 요카이치 챌린저(총상금 5만4160달러) 대회 사흘째 단식 본선 2회전서 매튜 크리스토퍼 로미오스(20·597위·호주)를 2대0(6-3 6-1)... ', 'pubDate': 'Wed, 07 Aug 2019 14:44:00 +0900'}\n"
     ]
    }
   ],
   "source": [
    "# for문을 통해 리스트 안의 item값 출력\n",
    "for item in tmp['items']:\n",
    "    print(item)"
   ]
  },
  {
   "cell_type": "code",
   "execution_count": null,
   "metadata": {},
   "outputs": [],
   "source": []
  },
  {
   "cell_type": "code",
   "execution_count": 78,
   "metadata": {},
   "outputs": [
    {
     "name": "stdout",
     "output_type": "stream",
     "text": [
      "세레나 윌리엄스 원톱, 메시·호날두와 비교하면? [여성 스포츠선수 수입순위...\n",
      "정현, 복귀 후 6연승…요카이치 챌린저 16강 진출\n",
      "정현, 부상 복귀 후 6연승…요카이치 챌린저 16강행\n",
      "실업<b>테니스</b>연맹전 함양대회서 대구시청·도로공사 남녀단체전 우승\n",
      "'복귀 후 6연승' 정현, 요카이치 챌린저 16강 진출\n",
      "중국 하남성 유소년 축구단, 경산시 선진 축구 배우러 왔어요\n",
      "[스포츠 평론가 기영노 콩트 22] 토트넘 손흥민과 집행유예\n",
      "정현, 부상 복귀 후 쾌조의 6연승…요카이치 챌린저 16강 진출\n",
      "정현, 복귀 후 6연승 행진..2개 대회 연속 우승 기대\n",
      "[<b>테니스</b>] 정현, 요카이치 챌린저 16강행... 복귀 후 6연승\n"
     ]
    }
   ],
   "source": [
    "# title이 키인 딕셔너리 출력\n",
    "for item in tmp['items']:\n",
    "    print(item['title'])"
   ]
  },
  {
   "cell_type": "code",
   "execution_count": 80,
   "metadata": {},
   "outputs": [
    {
     "data": {
      "text/plain": [
       "['세레나 윌리엄스 원톱, 메시·호날두와 비교하면? [여성 스포츠선수 수입순위...',\n",
       " '정현, 복귀 후 6연승…요카이치 챌린저 16강 진출',\n",
       " '정현, 부상 복귀 후 6연승…요카이치 챌린저 16강행',\n",
       " '실업<b>테니스</b>연맹전 함양대회서 대구시청·도로공사 남녀단체전 우승',\n",
       " \"'복귀 후 6연승' 정현, 요카이치 챌린저 16강 진출\",\n",
       " '중국 하남성 유소년 축구단, 경산시 선진 축구 배우러 왔어요',\n",
       " '[스포츠 평론가 기영노 콩트 22] 토트넘 손흥민과 집행유예',\n",
       " '정현, 부상 복귀 후 쾌조의 6연승…요카이치 챌린저 16강 진출',\n",
       " '정현, 복귀 후 6연승 행진..2개 대회 연속 우승 기대',\n",
       " '[<b>테니스</b>] 정현, 요카이치 챌린저 16강행... 복귀 후 6연승']"
      ]
     },
     "execution_count": 80,
     "metadata": {},
     "output_type": "execute_result"
    }
   ],
   "source": [
    "[ item['title'] for item in tmp['items'] ]"
   ]
  },
  {
   "cell_type": "code",
   "execution_count": null,
   "metadata": {},
   "outputs": [],
   "source": []
  },
  {
   "cell_type": "code",
   "execution_count": null,
   "metadata": {},
   "outputs": [],
   "source": []
  }
 ],
 "metadata": {
  "kernelspec": {
   "display_name": "Python 3",
   "language": "python",
   "name": "python3"
  },
  "language_info": {
   "codemirror_mode": {
    "name": "ipython",
    "version": 3
   },
   "file_extension": ".py",
   "mimetype": "text/x-python",
   "name": "python",
   "nbconvert_exporter": "python",
   "pygments_lexer": "ipython3",
   "version": "3.6.9"
  }
 },
 "nbformat": 4,
 "nbformat_minor": 2
}
