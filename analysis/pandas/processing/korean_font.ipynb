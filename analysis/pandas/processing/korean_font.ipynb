{
 "cells": [
  {
   "cell_type": "code",
   "execution_count": 2,
   "metadata": {},
   "outputs": [],
   "source": [
    "# 폰트\n",
    "import platform \n",
    "from matplotlib import font_manager, rc, pyplot as plt\n",
    "import matplotlib\n",
    "%matplotlib inline\n",
    "\n",
    "def initKoreaFontLoad():\n",
    "    plt.rcParams['axes.unicode_minus'] = False\n",
    "    os_name = platform.system()\n",
    "\n",
    "    if os_name == 'Darwin':        # MacOS, Linux\n",
    "        rc('font', family='AppleGothic') # 통상 맥을 사용한다고 보고, 폰트를 지정\n",
    "\n",
    "    elif os_name == 'Windows':    # window10~, window server\n",
    "        path = \"c:/windows/Fonts/malgun.ttf\"\n",
    "        font_name = font_manager.FontProperties(fname=path).get_name()\n",
    "        print(font_name)\n",
    "        rc('font', family= font_name ) #'Malgun Gothic'\n",
    "\n",
    "\n",
    "    else:\n",
    "        print('알수없는 시스템')\n",
    "        pass"
   ]
  }
 ],
 "metadata": {
  "kernelspec": {
   "display_name": "Python 3",
   "language": "python",
   "name": "python3"
  },
  "language_info": {
   "codemirror_mode": {
    "name": "ipython",
    "version": 3
   },
   "file_extension": ".py",
   "mimetype": "text/x-python",
   "name": "python",
   "nbconvert_exporter": "python",
   "pygments_lexer": "ipython3",
   "version": "3.6.9"
  }
 },
 "nbformat": 4,
 "nbformat_minor": 2
}
