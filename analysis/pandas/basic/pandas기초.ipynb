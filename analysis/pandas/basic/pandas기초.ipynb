{
 "cells": [
  {
   "cell_type": "markdown",
   "metadata": {},
   "source": [
    "## pandas 기초\n",
    "\n",
    "- pandas는 R의 핵심 데이터 시리즈와 프레이믈 파이썬의 추가한 것이다\n",
    "- numpay를 기반으로 구현되었고, numpy 대비 기능을 더 확장하여 재구현한 것\n",
    "- Python Data analysis Library\n",
    "- https://pandas.pydata.org"
   ]
  },
  {
   "cell_type": "code",
   "execution_count": 41,
   "metadata": {},
   "outputs": [],
   "source": [
    "import numpy as np\n",
    "import pandas as pd"
   ]
  },
  {
   "cell_type": "markdown",
   "metadata": {},
   "source": [
    "- 파이썬의 자료구조\n",
    "> 수치형, 문자열, 리스트, 딕셔너리, 튜플, 집합, 블린\n",
    "- numpy의 자료구조\n",
    "> ndarray(배열) : 배열의 데이터는 모든 같은 타입이다.\n",
    "- pandas의 자료구조\n",
    "> Series(시리즈), DataFrame(데이터프레임)\n",
    "> DataFrame의 인덱싱 -> Series의 인덱싱 -> 값(스칼라), 수치, 문자 블린,NaN 이 등장\n",
    "> Series: 인덱스와 데이터만 존재하는 컬럼이 없는 자료구조\n",
    "> DataFrame: 인덱스와 컬럼이 존재하는 자료구조\n",
    "> NaN: 데이터가 없다. (난,넌), Not a Number => np.nan"
   ]
  },
  {
   "cell_type": "code",
   "execution_count": 2,
   "metadata": {},
   "outputs": [
    {
     "data": {
      "text/plain": [
       "0    1.0\n",
       "1    3.0\n",
       "2    5.0\n",
       "3    NaN\n",
       "4    6.0\n",
       "5    8.0\n",
       "dtype: float64"
      ]
     },
     "execution_count": 2,
     "metadata": {},
     "output_type": "execute_result"
    }
   ],
   "source": [
    "# Series\n",
    "# 데이터를 정수로 넣었으나 기볺여으로 float64가 반영되었다.\n",
    "a = pd.Series( [1,3,5,np.nan,6,8] )\n",
    "a"
   ]
  },
  {
   "cell_type": "code",
   "execution_count": 3,
   "metadata": {},
   "outputs": [
    {
     "data": {
      "text/plain": [
       "dtype('float64')"
      ]
     },
     "execution_count": 3,
     "metadata": {},
     "output_type": "execute_result"
    }
   ],
   "source": [
    "# 속성\n",
    "a.dtype"
   ]
  },
  {
   "cell_type": "code",
   "execution_count": 4,
   "metadata": {},
   "outputs": [
    {
     "data": {
      "text/plain": [
       "(6,)"
      ]
     },
     "execution_count": 4,
     "metadata": {},
     "output_type": "execute_result"
    }
   ],
   "source": [
    "# 속성-크기\n",
    "a.shape  # 1차원 데이터로 총 6개의 데이터가 존재"
   ]
  },
  {
   "cell_type": "code",
   "execution_count": 5,
   "metadata": {},
   "outputs": [
    {
     "data": {
      "text/plain": [
       "(['A', 'B', 'C', 'D'],\n",
       " DatetimeIndex(['2019-08-12', '2019-08-13', '2019-08-14', '2019-08-15',\n",
       "                '2019-08-16', '2019-08-17', '2019-08-18'],\n",
       "               dtype='datetime64[ns]', freq='D'))"
      ]
     },
     "execution_count": 5,
     "metadata": {},
     "output_type": "execute_result"
    }
   ],
   "source": [
    "# DataFrame\n",
    "# 인덱스와 컬럼이 존재하는 자료구조\n",
    "cols = 'ABCD' \n",
    "# ['','','',''] 리스트 로 만들기\n",
    "cols = list('ABCD')\n",
    "indexs = pd.date_range('20190812', periods=7)\n",
    "# 컬럼 4개 인덱스 7개\n",
    "cols,indexs"
   ]
  },
  {
   "cell_type": "code",
   "execution_count": 6,
   "metadata": {},
   "outputs": [
    {
     "data": {
      "text/plain": [
       "(array([[ 2.06608858e+00, -1.04918928e+00,  1.52214226e+00,\n",
       "         -4.81156104e-01],\n",
       "        [-3.11461380e-01,  4.36933653e-01, -3.20700283e+00,\n",
       "          1.55038821e+00],\n",
       "        [-1.94969963e-04,  6.88413216e-01, -6.40972794e-01,\n",
       "          5.55134049e-01],\n",
       "        [ 3.57976396e-01,  1.22170728e-01, -7.49669100e-01,\n",
       "          4.65207228e-01],\n",
       "        [-1.26324641e+00, -6.23989788e-01,  1.13087832e+00,\n",
       "          5.71936101e-01],\n",
       "        [ 7.58689878e-01,  6.97541250e-01,  1.92058968e+00,\n",
       "         -1.03248008e+00],\n",
       "        [ 2.16937655e-02, -9.32476873e-01, -1.32230044e+00,\n",
       "          4.24944076e-01]]), (7, 4))"
      ]
     },
     "execution_count": 6,
     "metadata": {},
     "output_type": "execute_result"
    }
   ],
   "source": [
    "# 데이터는  shape => (7,4) # 인덱스 값이 먼저, 뒤가 컬럼값\n",
    "datas = np.random.randn(7,4)\n",
    "datas, datas.shape"
   ]
  },
  {
   "cell_type": "code",
   "execution_count": 7,
   "metadata": {},
   "outputs": [
    {
     "data": {
      "text/html": [
       "<div>\n",
       "<style scoped>\n",
       "    .dataframe tbody tr th:only-of-type {\n",
       "        vertical-align: middle;\n",
       "    }\n",
       "\n",
       "    .dataframe tbody tr th {\n",
       "        vertical-align: top;\n",
       "    }\n",
       "\n",
       "    .dataframe thead th {\n",
       "        text-align: right;\n",
       "    }\n",
       "</style>\n",
       "<table border=\"1\" class=\"dataframe\">\n",
       "  <thead>\n",
       "    <tr style=\"text-align: right;\">\n",
       "      <th></th>\n",
       "      <th>A</th>\n",
       "      <th>B</th>\n",
       "      <th>C</th>\n",
       "      <th>D</th>\n",
       "    </tr>\n",
       "  </thead>\n",
       "  <tbody>\n",
       "    <tr>\n",
       "      <th>2019-08-12</th>\n",
       "      <td>2.066089</td>\n",
       "      <td>-1.049189</td>\n",
       "      <td>1.522142</td>\n",
       "      <td>-0.481156</td>\n",
       "    </tr>\n",
       "    <tr>\n",
       "      <th>2019-08-13</th>\n",
       "      <td>-0.311461</td>\n",
       "      <td>0.436934</td>\n",
       "      <td>-3.207003</td>\n",
       "      <td>1.550388</td>\n",
       "    </tr>\n",
       "    <tr>\n",
       "      <th>2019-08-14</th>\n",
       "      <td>-0.000195</td>\n",
       "      <td>0.688413</td>\n",
       "      <td>-0.640973</td>\n",
       "      <td>0.555134</td>\n",
       "    </tr>\n",
       "    <tr>\n",
       "      <th>2019-08-15</th>\n",
       "      <td>0.357976</td>\n",
       "      <td>0.122171</td>\n",
       "      <td>-0.749669</td>\n",
       "      <td>0.465207</td>\n",
       "    </tr>\n",
       "    <tr>\n",
       "      <th>2019-08-16</th>\n",
       "      <td>-1.263246</td>\n",
       "      <td>-0.623990</td>\n",
       "      <td>1.130878</td>\n",
       "      <td>0.571936</td>\n",
       "    </tr>\n",
       "    <tr>\n",
       "      <th>2019-08-17</th>\n",
       "      <td>0.758690</td>\n",
       "      <td>0.697541</td>\n",
       "      <td>1.920590</td>\n",
       "      <td>-1.032480</td>\n",
       "    </tr>\n",
       "    <tr>\n",
       "      <th>2019-08-18</th>\n",
       "      <td>0.021694</td>\n",
       "      <td>-0.932477</td>\n",
       "      <td>-1.322300</td>\n",
       "      <td>0.424944</td>\n",
       "    </tr>\n",
       "  </tbody>\n",
       "</table>\n",
       "</div>"
      ],
      "text/plain": [
       "                   A         B         C         D\n",
       "2019-08-12  2.066089 -1.049189  1.522142 -0.481156\n",
       "2019-08-13 -0.311461  0.436934 -3.207003  1.550388\n",
       "2019-08-14 -0.000195  0.688413 -0.640973  0.555134\n",
       "2019-08-15  0.357976  0.122171 -0.749669  0.465207\n",
       "2019-08-16 -1.263246 -0.623990  1.130878  0.571936\n",
       "2019-08-17  0.758690  0.697541  1.920590 -1.032480\n",
       "2019-08-18  0.021694 -0.932477 -1.322300  0.424944"
      ]
     },
     "execution_count": 7,
     "metadata": {},
     "output_type": "execute_result"
    }
   ],
   "source": [
    "# df 생성\n",
    "df = pd.DataFrame( datas,index=indexs,columns=cols)\n",
    "df"
   ]
  },
  {
   "cell_type": "markdown",
   "metadata": {},
   "source": [
    "- ** 데아터가 로드된 후 DataFrame을 만든 후 점검할 사항**"
   ]
  },
  {
   "cell_type": "code",
   "execution_count": 8,
   "metadata": {},
   "outputs": [
    {
     "data": {
      "text/plain": [
       "Index(['A', 'B', 'C', 'D'], dtype='object')"
      ]
     },
     "execution_count": 8,
     "metadata": {},
     "output_type": "execute_result"
    }
   ],
   "source": [
    "df.columns"
   ]
  },
  {
   "cell_type": "code",
   "execution_count": 9,
   "metadata": {},
   "outputs": [
    {
     "data": {
      "text/plain": [
       "DatetimeIndex(['2019-08-12', '2019-08-13', '2019-08-14', '2019-08-15',\n",
       "               '2019-08-16', '2019-08-17', '2019-08-18'],\n",
       "              dtype='datetime64[ns]', freq='D')"
      ]
     },
     "execution_count": 9,
     "metadata": {},
     "output_type": "execute_result"
    }
   ],
   "source": [
    "df.index"
   ]
  },
  {
   "cell_type": "code",
   "execution_count": 10,
   "metadata": {},
   "outputs": [
    {
     "data": {
      "text/plain": [
       "array([[ 2.06608858e+00, -1.04918928e+00,  1.52214226e+00,\n",
       "        -4.81156104e-01],\n",
       "       [-3.11461380e-01,  4.36933653e-01, -3.20700283e+00,\n",
       "         1.55038821e+00],\n",
       "       [-1.94969963e-04,  6.88413216e-01, -6.40972794e-01,\n",
       "         5.55134049e-01],\n",
       "       [ 3.57976396e-01,  1.22170728e-01, -7.49669100e-01,\n",
       "         4.65207228e-01],\n",
       "       [-1.26324641e+00, -6.23989788e-01,  1.13087832e+00,\n",
       "         5.71936101e-01],\n",
       "       [ 7.58689878e-01,  6.97541250e-01,  1.92058968e+00,\n",
       "        -1.03248008e+00],\n",
       "       [ 2.16937655e-02, -9.32476873e-01, -1.32230044e+00,\n",
       "         4.24944076e-01]])"
      ]
     },
     "execution_count": 10,
     "metadata": {},
     "output_type": "execute_result"
    }
   ],
   "source": [
    "df.values"
   ]
  },
  {
   "cell_type": "code",
   "execution_count": 11,
   "metadata": {},
   "outputs": [
    {
     "data": {
      "text/plain": [
       "numpy.ndarray"
      ]
     },
     "execution_count": 11,
     "metadata": {},
     "output_type": "execute_result"
    }
   ],
   "source": [
    "type(df.values)"
   ]
  },
  {
   "cell_type": "code",
   "execution_count": 12,
   "metadata": {},
   "outputs": [
    {
     "data": {
      "text/plain": [
       "(7, 4)"
      ]
     },
     "execution_count": 12,
     "metadata": {},
     "output_type": "execute_result"
    }
   ],
   "source": [
    "df.shape"
   ]
  },
  {
   "cell_type": "code",
   "execution_count": 13,
   "metadata": {},
   "outputs": [
    {
     "data": {
      "text/plain": [
       "A    float64\n",
       "B    float64\n",
       "C    float64\n",
       "D    float64\n",
       "dtype: object"
      ]
     },
     "execution_count": 13,
     "metadata": {},
     "output_type": "execute_result"
    }
   ],
   "source": [
    "df.dtypes"
   ]
  },
  {
   "cell_type": "code",
   "execution_count": 14,
   "metadata": {},
   "outputs": [
    {
     "name": "stdout",
     "output_type": "stream",
     "text": [
      "<class 'pandas.core.frame.DataFrame'>\n",
      "DatetimeIndex: 7 entries, 2019-08-12 to 2019-08-18\n",
      "Freq: D\n",
      "Data columns (total 4 columns):\n",
      "A    7 non-null float64\n",
      "B    7 non-null float64\n",
      "C    7 non-null float64\n",
      "D    7 non-null float64\n",
      "dtypes: float64(4)\n",
      "memory usage: 280.0 bytes\n"
     ]
    }
   ],
   "source": [
    "# df의 개요\n",
    "df.info()"
   ]
  },
  {
   "cell_type": "code",
   "execution_count": 15,
   "metadata": {},
   "outputs": [
    {
     "data": {
      "text/html": [
       "<div>\n",
       "<style scoped>\n",
       "    .dataframe tbody tr th:only-of-type {\n",
       "        vertical-align: middle;\n",
       "    }\n",
       "\n",
       "    .dataframe tbody tr th {\n",
       "        vertical-align: top;\n",
       "    }\n",
       "\n",
       "    .dataframe thead th {\n",
       "        text-align: right;\n",
       "    }\n",
       "</style>\n",
       "<table border=\"1\" class=\"dataframe\">\n",
       "  <thead>\n",
       "    <tr style=\"text-align: right;\">\n",
       "      <th></th>\n",
       "      <th>A</th>\n",
       "      <th>B</th>\n",
       "      <th>C</th>\n",
       "      <th>D</th>\n",
       "    </tr>\n",
       "  </thead>\n",
       "  <tbody>\n",
       "    <tr>\n",
       "      <th>count</th>\n",
       "      <td>7.000000</td>\n",
       "      <td>7.000000</td>\n",
       "      <td>7.000000</td>\n",
       "      <td>7.000000</td>\n",
       "    </tr>\n",
       "    <tr>\n",
       "      <th>mean</th>\n",
       "      <td>0.232792</td>\n",
       "      <td>-0.094371</td>\n",
       "      <td>-0.192334</td>\n",
       "      <td>0.293425</td>\n",
       "    </tr>\n",
       "    <tr>\n",
       "      <th>std</th>\n",
       "      <td>1.023589</td>\n",
       "      <td>0.759786</td>\n",
       "      <td>1.827189</td>\n",
       "      <td>0.829741</td>\n",
       "    </tr>\n",
       "    <tr>\n",
       "      <th>min</th>\n",
       "      <td>-1.263246</td>\n",
       "      <td>-1.049189</td>\n",
       "      <td>-3.207003</td>\n",
       "      <td>-1.032480</td>\n",
       "    </tr>\n",
       "    <tr>\n",
       "      <th>25%</th>\n",
       "      <td>-0.155828</td>\n",
       "      <td>-0.778233</td>\n",
       "      <td>-1.035985</td>\n",
       "      <td>-0.028106</td>\n",
       "    </tr>\n",
       "    <tr>\n",
       "      <th>50%</th>\n",
       "      <td>0.021694</td>\n",
       "      <td>0.122171</td>\n",
       "      <td>-0.640973</td>\n",
       "      <td>0.465207</td>\n",
       "    </tr>\n",
       "    <tr>\n",
       "      <th>75%</th>\n",
       "      <td>0.558333</td>\n",
       "      <td>0.562673</td>\n",
       "      <td>1.326510</td>\n",
       "      <td>0.563535</td>\n",
       "    </tr>\n",
       "    <tr>\n",
       "      <th>max</th>\n",
       "      <td>2.066089</td>\n",
       "      <td>0.697541</td>\n",
       "      <td>1.920590</td>\n",
       "      <td>1.550388</td>\n",
       "    </tr>\n",
       "  </tbody>\n",
       "</table>\n",
       "</div>"
      ],
      "text/plain": [
       "              A         B         C         D\n",
       "count  7.000000  7.000000  7.000000  7.000000\n",
       "mean   0.232792 -0.094371 -0.192334  0.293425\n",
       "std    1.023589  0.759786  1.827189  0.829741\n",
       "min   -1.263246 -1.049189 -3.207003 -1.032480\n",
       "25%   -0.155828 -0.778233 -1.035985 -0.028106\n",
       "50%    0.021694  0.122171 -0.640973  0.465207\n",
       "75%    0.558333  0.562673  1.326510  0.563535\n",
       "max    2.066089  0.697541  1.920590  1.550388"
      ]
     },
     "execution_count": 15,
     "metadata": {},
     "output_type": "execute_result"
    }
   ],
   "source": [
    "# 통계요약 : 개수, 평균, 표준편차, 최소, 25%, 50%, 75% 최대\n",
    "df.describe()"
   ]
  },
  {
   "cell_type": "code",
   "execution_count": 16,
   "metadata": {},
   "outputs": [
    {
     "data": {
      "text/html": [
       "<div>\n",
       "<style scoped>\n",
       "    .dataframe tbody tr th:only-of-type {\n",
       "        vertical-align: middle;\n",
       "    }\n",
       "\n",
       "    .dataframe tbody tr th {\n",
       "        vertical-align: top;\n",
       "    }\n",
       "\n",
       "    .dataframe thead th {\n",
       "        text-align: right;\n",
       "    }\n",
       "</style>\n",
       "<table border=\"1\" class=\"dataframe\">\n",
       "  <thead>\n",
       "    <tr style=\"text-align: right;\">\n",
       "      <th></th>\n",
       "      <th>A</th>\n",
       "      <th>B</th>\n",
       "      <th>C</th>\n",
       "      <th>D</th>\n",
       "    </tr>\n",
       "  </thead>\n",
       "  <tbody>\n",
       "    <tr>\n",
       "      <th>2019-08-17</th>\n",
       "      <td>0.758690</td>\n",
       "      <td>0.697541</td>\n",
       "      <td>1.920590</td>\n",
       "      <td>-1.032480</td>\n",
       "    </tr>\n",
       "    <tr>\n",
       "      <th>2019-08-14</th>\n",
       "      <td>-0.000195</td>\n",
       "      <td>0.688413</td>\n",
       "      <td>-0.640973</td>\n",
       "      <td>0.555134</td>\n",
       "    </tr>\n",
       "    <tr>\n",
       "      <th>2019-08-13</th>\n",
       "      <td>-0.311461</td>\n",
       "      <td>0.436934</td>\n",
       "      <td>-3.207003</td>\n",
       "      <td>1.550388</td>\n",
       "    </tr>\n",
       "    <tr>\n",
       "      <th>2019-08-15</th>\n",
       "      <td>0.357976</td>\n",
       "      <td>0.122171</td>\n",
       "      <td>-0.749669</td>\n",
       "      <td>0.465207</td>\n",
       "    </tr>\n",
       "    <tr>\n",
       "      <th>2019-08-16</th>\n",
       "      <td>-1.263246</td>\n",
       "      <td>-0.623990</td>\n",
       "      <td>1.130878</td>\n",
       "      <td>0.571936</td>\n",
       "    </tr>\n",
       "    <tr>\n",
       "      <th>2019-08-18</th>\n",
       "      <td>0.021694</td>\n",
       "      <td>-0.932477</td>\n",
       "      <td>-1.322300</td>\n",
       "      <td>0.424944</td>\n",
       "    </tr>\n",
       "    <tr>\n",
       "      <th>2019-08-12</th>\n",
       "      <td>2.066089</td>\n",
       "      <td>-1.049189</td>\n",
       "      <td>1.522142</td>\n",
       "      <td>-0.481156</td>\n",
       "    </tr>\n",
       "  </tbody>\n",
       "</table>\n",
       "</div>"
      ],
      "text/plain": [
       "                   A         B         C         D\n",
       "2019-08-17  0.758690  0.697541  1.920590 -1.032480\n",
       "2019-08-14 -0.000195  0.688413 -0.640973  0.555134\n",
       "2019-08-13 -0.311461  0.436934 -3.207003  1.550388\n",
       "2019-08-15  0.357976  0.122171 -0.749669  0.465207\n",
       "2019-08-16 -1.263246 -0.623990  1.130878  0.571936\n",
       "2019-08-18  0.021694 -0.932477 -1.322300  0.424944\n",
       "2019-08-12  2.066089 -1.049189  1.522142 -0.481156"
      ]
     },
     "execution_count": 16,
     "metadata": {},
     "output_type": "execute_result"
    }
   ],
   "source": [
    "# B열 기준 데이터를 정렬, 내림차순, \n",
    "df.sort_values(by='B', ascending=False)"
   ]
  },
  {
   "cell_type": "code",
   "execution_count": 17,
   "metadata": {},
   "outputs": [
    {
     "data": {
      "text/plain": [
       "(2019-08-12    1.522142\n",
       " 2019-08-13   -3.207003\n",
       " 2019-08-14   -0.640973\n",
       " 2019-08-15   -0.749669\n",
       " 2019-08-16    1.130878\n",
       " 2019-08-17    1.920590\n",
       " 2019-08-18   -1.322300\n",
       " Freq: D, Name: C, dtype: float64, pandas.core.series.Series)"
      ]
     },
     "execution_count": 17,
     "metadata": {},
     "output_type": "execute_result"
    }
   ],
   "source": [
    "# 특정 컬럼의 데이터만 보기 => 인덱싱 => 차원축소\n",
    "df['C'], type(df['C'])"
   ]
  },
  {
   "cell_type": "code",
   "execution_count": 18,
   "metadata": {},
   "outputs": [
    {
     "data": {
      "text/html": [
       "<div>\n",
       "<style scoped>\n",
       "    .dataframe tbody tr th:only-of-type {\n",
       "        vertical-align: middle;\n",
       "    }\n",
       "\n",
       "    .dataframe tbody tr th {\n",
       "        vertical-align: top;\n",
       "    }\n",
       "\n",
       "    .dataframe thead th {\n",
       "        text-align: right;\n",
       "    }\n",
       "</style>\n",
       "<table border=\"1\" class=\"dataframe\">\n",
       "  <thead>\n",
       "    <tr style=\"text-align: right;\">\n",
       "      <th></th>\n",
       "      <th>A</th>\n",
       "      <th>B</th>\n",
       "      <th>C</th>\n",
       "      <th>D</th>\n",
       "    </tr>\n",
       "  </thead>\n",
       "  <tbody>\n",
       "    <tr>\n",
       "      <th>2019-08-12</th>\n",
       "      <td>2.066089</td>\n",
       "      <td>-1.049189</td>\n",
       "      <td>1.522142</td>\n",
       "      <td>-0.481156</td>\n",
       "    </tr>\n",
       "    <tr>\n",
       "      <th>2019-08-13</th>\n",
       "      <td>-0.311461</td>\n",
       "      <td>0.436934</td>\n",
       "      <td>-3.207003</td>\n",
       "      <td>1.550388</td>\n",
       "    </tr>\n",
       "    <tr>\n",
       "      <th>2019-08-14</th>\n",
       "      <td>-0.000195</td>\n",
       "      <td>0.688413</td>\n",
       "      <td>-0.640973</td>\n",
       "      <td>0.555134</td>\n",
       "    </tr>\n",
       "    <tr>\n",
       "      <th>2019-08-15</th>\n",
       "      <td>0.357976</td>\n",
       "      <td>0.122171</td>\n",
       "      <td>-0.749669</td>\n",
       "      <td>0.465207</td>\n",
       "    </tr>\n",
       "    <tr>\n",
       "      <th>2019-08-16</th>\n",
       "      <td>-1.263246</td>\n",
       "      <td>-0.623990</td>\n",
       "      <td>1.130878</td>\n",
       "      <td>0.571936</td>\n",
       "    </tr>\n",
       "    <tr>\n",
       "      <th>2019-08-17</th>\n",
       "      <td>0.758690</td>\n",
       "      <td>0.697541</td>\n",
       "      <td>1.920590</td>\n",
       "      <td>-1.032480</td>\n",
       "    </tr>\n",
       "    <tr>\n",
       "      <th>2019-08-18</th>\n",
       "      <td>0.021694</td>\n",
       "      <td>-0.932477</td>\n",
       "      <td>-1.322300</td>\n",
       "      <td>0.424944</td>\n",
       "    </tr>\n",
       "  </tbody>\n",
       "</table>\n",
       "</div>"
      ],
      "text/plain": [
       "                   A         B         C         D\n",
       "2019-08-12  2.066089 -1.049189  1.522142 -0.481156\n",
       "2019-08-13 -0.311461  0.436934 -3.207003  1.550388\n",
       "2019-08-14 -0.000195  0.688413 -0.640973  0.555134\n",
       "2019-08-15  0.357976  0.122171 -0.749669  0.465207\n",
       "2019-08-16 -1.263246 -0.623990  1.130878  0.571936\n",
       "2019-08-17  0.758690  0.697541  1.920590 -1.032480\n",
       "2019-08-18  0.021694 -0.932477 -1.322300  0.424944"
      ]
     },
     "execution_count": 18,
     "metadata": {},
     "output_type": "execute_result"
    }
   ],
   "source": [
    "# 슬라이싱 : 차원유지\n",
    "df[:] # 카피 동일"
   ]
  },
  {
   "cell_type": "code",
   "execution_count": 19,
   "metadata": {},
   "outputs": [
    {
     "data": {
      "text/html": [
       "<div>\n",
       "<style scoped>\n",
       "    .dataframe tbody tr th:only-of-type {\n",
       "        vertical-align: middle;\n",
       "    }\n",
       "\n",
       "    .dataframe tbody tr th {\n",
       "        vertical-align: top;\n",
       "    }\n",
       "\n",
       "    .dataframe thead th {\n",
       "        text-align: right;\n",
       "    }\n",
       "</style>\n",
       "<table border=\"1\" class=\"dataframe\">\n",
       "  <thead>\n",
       "    <tr style=\"text-align: right;\">\n",
       "      <th></th>\n",
       "      <th>A</th>\n",
       "      <th>B</th>\n",
       "      <th>C</th>\n",
       "      <th>D</th>\n",
       "    </tr>\n",
       "  </thead>\n",
       "  <tbody>\n",
       "    <tr>\n",
       "      <th>2019-08-13</th>\n",
       "      <td>-0.311461</td>\n",
       "      <td>0.436934</td>\n",
       "      <td>-3.207003</td>\n",
       "      <td>1.550388</td>\n",
       "    </tr>\n",
       "    <tr>\n",
       "      <th>2019-08-14</th>\n",
       "      <td>-0.000195</td>\n",
       "      <td>0.688413</td>\n",
       "      <td>-0.640973</td>\n",
       "      <td>0.555134</td>\n",
       "    </tr>\n",
       "  </tbody>\n",
       "</table>\n",
       "</div>"
      ],
      "text/plain": [
       "                   A         B         C         D\n",
       "2019-08-13 -0.311461  0.436934 -3.207003  1.550388\n",
       "2019-08-14 -0.000195  0.688413 -0.640973  0.555134"
      ]
     },
     "execution_count": 19,
     "metadata": {},
     "output_type": "execute_result"
    }
   ],
   "source": [
    "# 데이터가 슬라이싱 되서 나온다 => 차원을 유지해야 하니까\n",
    "# a <= x <B\n",
    "df[1:3] # 1:3은 인덱스 값 기준"
   ]
  },
  {
   "cell_type": "code",
   "execution_count": 20,
   "metadata": {},
   "outputs": [
    {
     "data": {
      "text/html": [
       "<div>\n",
       "<style scoped>\n",
       "    .dataframe tbody tr th:only-of-type {\n",
       "        vertical-align: middle;\n",
       "    }\n",
       "\n",
       "    .dataframe tbody tr th {\n",
       "        vertical-align: top;\n",
       "    }\n",
       "\n",
       "    .dataframe thead th {\n",
       "        text-align: right;\n",
       "    }\n",
       "</style>\n",
       "<table border=\"1\" class=\"dataframe\">\n",
       "  <thead>\n",
       "    <tr style=\"text-align: right;\">\n",
       "      <th></th>\n",
       "      <th>A</th>\n",
       "      <th>B</th>\n",
       "      <th>C</th>\n",
       "      <th>D</th>\n",
       "    </tr>\n",
       "  </thead>\n",
       "  <tbody>\n",
       "    <tr>\n",
       "      <th>2019-08-13</th>\n",
       "      <td>-0.311461</td>\n",
       "      <td>0.436934</td>\n",
       "      <td>-3.207003</td>\n",
       "      <td>1.550388</td>\n",
       "    </tr>\n",
       "    <tr>\n",
       "      <th>2019-08-14</th>\n",
       "      <td>-0.000195</td>\n",
       "      <td>0.688413</td>\n",
       "      <td>-0.640973</td>\n",
       "      <td>0.555134</td>\n",
       "    </tr>\n",
       "    <tr>\n",
       "      <th>2019-08-15</th>\n",
       "      <td>0.357976</td>\n",
       "      <td>0.122171</td>\n",
       "      <td>-0.749669</td>\n",
       "      <td>0.465207</td>\n",
       "    </tr>\n",
       "  </tbody>\n",
       "</table>\n",
       "</div>"
      ],
      "text/plain": [
       "                   A         B         C         D\n",
       "2019-08-13 -0.311461  0.436934 -3.207003  1.550388\n",
       "2019-08-14 -0.000195  0.688413 -0.640973  0.555134\n",
       "2019-08-15  0.357976  0.122171 -0.749669  0.465207"
      ]
     },
     "execution_count": 20,
     "metadata": {},
     "output_type": "execute_result"
    }
   ],
   "source": [
    "# 슬라이싱을 하는데 인덱스 값이 아닌 실제 값으로 자르기\n",
    "# a<= x <= b\n",
    "df['2019-08-13':'2019-08-15']"
   ]
  },
  {
   "cell_type": "markdown",
   "metadata": {},
   "source": [
    "- 전통적인 인덱싱과 슬라이싱을 진행하면 표현의 한계점에 도달.\n",
    "- 이를 극복하기 위해서 pandas 만의 데이터 추출법이 추가가 되었다.\n",
    "- loc, iloc <= 2개를 주로 사용한다.\n",
    "- 연속데이터에 대한 추출  <-> 비연속 데이터들의 추출법(펜시인뎅싱, 쿼리수행등등)"
   ]
  },
  {
   "cell_type": "markdown",
   "metadata": {},
   "source": []
  },
  {
   "cell_type": "markdown",
   "metadata": {},
   "source": [
    "### loc"
   ]
  },
  {
   "cell_type": "code",
   "execution_count": 21,
   "metadata": {},
   "outputs": [
    {
     "data": {
      "text/plain": [
       "(A    2.066089\n",
       " B   -1.049189\n",
       " C    1.522142\n",
       " D   -0.481156\n",
       " Name: 2019-08-12 00:00:00, dtype: float64, pandas.core.series.Series)"
      ]
     },
     "execution_count": 21,
     "metadata": {},
     "output_type": "execute_result"
    }
   ],
   "source": [
    "# loc : location 정보를 옵션으로 하여 슬라이싱 지원\n",
    "# loc을 통한 데이터추출\n",
    "# df.loc[ 인덱스명 ]\n",
    "df.loc['2019-08-12'], type(df.loc['2019-08-12'])"
   ]
  },
  {
   "cell_type": "code",
   "execution_count": 22,
   "metadata": {},
   "outputs": [
    {
     "data": {
      "text/html": [
       "<div>\n",
       "<style scoped>\n",
       "    .dataframe tbody tr th:only-of-type {\n",
       "        vertical-align: middle;\n",
       "    }\n",
       "\n",
       "    .dataframe tbody tr th {\n",
       "        vertical-align: top;\n",
       "    }\n",
       "\n",
       "    .dataframe thead th {\n",
       "        text-align: right;\n",
       "    }\n",
       "</style>\n",
       "<table border=\"1\" class=\"dataframe\">\n",
       "  <thead>\n",
       "    <tr style=\"text-align: right;\">\n",
       "      <th></th>\n",
       "      <th>A</th>\n",
       "      <th>B</th>\n",
       "      <th>C</th>\n",
       "      <th>D</th>\n",
       "    </tr>\n",
       "  </thead>\n",
       "  <tbody>\n",
       "    <tr>\n",
       "      <th>2019-08-12</th>\n",
       "      <td>2.066089</td>\n",
       "      <td>-1.049189</td>\n",
       "      <td>1.522142</td>\n",
       "      <td>-0.481156</td>\n",
       "    </tr>\n",
       "    <tr>\n",
       "      <th>2019-08-13</th>\n",
       "      <td>-0.311461</td>\n",
       "      <td>0.436934</td>\n",
       "      <td>-3.207003</td>\n",
       "      <td>1.550388</td>\n",
       "    </tr>\n",
       "    <tr>\n",
       "      <th>2019-08-14</th>\n",
       "      <td>-0.000195</td>\n",
       "      <td>0.688413</td>\n",
       "      <td>-0.640973</td>\n",
       "      <td>0.555134</td>\n",
       "    </tr>\n",
       "    <tr>\n",
       "      <th>2019-08-15</th>\n",
       "      <td>0.357976</td>\n",
       "      <td>0.122171</td>\n",
       "      <td>-0.749669</td>\n",
       "      <td>0.465207</td>\n",
       "    </tr>\n",
       "    <tr>\n",
       "      <th>2019-08-16</th>\n",
       "      <td>-1.263246</td>\n",
       "      <td>-0.623990</td>\n",
       "      <td>1.130878</td>\n",
       "      <td>0.571936</td>\n",
       "    </tr>\n",
       "    <tr>\n",
       "      <th>2019-08-17</th>\n",
       "      <td>0.758690</td>\n",
       "      <td>0.697541</td>\n",
       "      <td>1.920590</td>\n",
       "      <td>-1.032480</td>\n",
       "    </tr>\n",
       "    <tr>\n",
       "      <th>2019-08-18</th>\n",
       "      <td>0.021694</td>\n",
       "      <td>-0.932477</td>\n",
       "      <td>-1.322300</td>\n",
       "      <td>0.424944</td>\n",
       "    </tr>\n",
       "  </tbody>\n",
       "</table>\n",
       "</div>"
      ],
      "text/plain": [
       "                   A         B         C         D\n",
       "2019-08-12  2.066089 -1.049189  1.522142 -0.481156\n",
       "2019-08-13 -0.311461  0.436934 -3.207003  1.550388\n",
       "2019-08-14 -0.000195  0.688413 -0.640973  0.555134\n",
       "2019-08-15  0.357976  0.122171 -0.749669  0.465207\n",
       "2019-08-16 -1.263246 -0.623990  1.130878  0.571936\n",
       "2019-08-17  0.758690  0.697541  1.920590 -1.032480\n",
       "2019-08-18  0.021694 -0.932477 -1.322300  0.424944"
      ]
     },
     "execution_count": 22,
     "metadata": {},
     "output_type": "execute_result"
    }
   ],
   "source": [
    "# 원본 카피\n",
    "\n",
    "df.loc[:]"
   ]
  },
  {
   "cell_type": "code",
   "execution_count": 23,
   "metadata": {},
   "outputs": [
    {
     "data": {
      "text/html": [
       "<div>\n",
       "<style scoped>\n",
       "    .dataframe tbody tr th:only-of-type {\n",
       "        vertical-align: middle;\n",
       "    }\n",
       "\n",
       "    .dataframe tbody tr th {\n",
       "        vertical-align: top;\n",
       "    }\n",
       "\n",
       "    .dataframe thead th {\n",
       "        text-align: right;\n",
       "    }\n",
       "</style>\n",
       "<table border=\"1\" class=\"dataframe\">\n",
       "  <thead>\n",
       "    <tr style=\"text-align: right;\">\n",
       "      <th></th>\n",
       "      <th>A</th>\n",
       "      <th>C</th>\n",
       "    </tr>\n",
       "  </thead>\n",
       "  <tbody>\n",
       "    <tr>\n",
       "      <th>2019-08-12</th>\n",
       "      <td>2.066089</td>\n",
       "      <td>1.522142</td>\n",
       "    </tr>\n",
       "    <tr>\n",
       "      <th>2019-08-13</th>\n",
       "      <td>-0.311461</td>\n",
       "      <td>-3.207003</td>\n",
       "    </tr>\n",
       "    <tr>\n",
       "      <th>2019-08-14</th>\n",
       "      <td>-0.000195</td>\n",
       "      <td>-0.640973</td>\n",
       "    </tr>\n",
       "    <tr>\n",
       "      <th>2019-08-15</th>\n",
       "      <td>0.357976</td>\n",
       "      <td>-0.749669</td>\n",
       "    </tr>\n",
       "    <tr>\n",
       "      <th>2019-08-16</th>\n",
       "      <td>-1.263246</td>\n",
       "      <td>1.130878</td>\n",
       "    </tr>\n",
       "    <tr>\n",
       "      <th>2019-08-17</th>\n",
       "      <td>0.758690</td>\n",
       "      <td>1.920590</td>\n",
       "    </tr>\n",
       "    <tr>\n",
       "      <th>2019-08-18</th>\n",
       "      <td>0.021694</td>\n",
       "      <td>-1.322300</td>\n",
       "    </tr>\n",
       "  </tbody>\n",
       "</table>\n",
       "</div>"
      ],
      "text/plain": [
       "                   A         C\n",
       "2019-08-12  2.066089  1.522142\n",
       "2019-08-13 -0.311461 -3.207003\n",
       "2019-08-14 -0.000195 -0.640973\n",
       "2019-08-15  0.357976 -0.749669\n",
       "2019-08-16 -1.263246  1.130878\n",
       "2019-08-17  0.758690  1.920590\n",
       "2019-08-18  0.021694 -1.322300"
      ]
     },
     "execution_count": 23,
     "metadata": {},
     "output_type": "execute_result"
    }
   ],
   "source": [
    "# 인덱스쪽은 전부 포함시키고(1차원), 컬럼은 A,C만 포함(2차원)\n",
    "df.loc[ :,['A','C'] ]    # 인덱스, 컬럼 순으로 표현.   , 앞부분은 인덱스 , 뒷부분은 컬럼\n"
   ]
  },
  {
   "cell_type": "code",
   "execution_count": 24,
   "metadata": {},
   "outputs": [
    {
     "data": {
      "text/plain": [
       "(2019-08-12    2.066089\n",
       " 2019-08-13   -0.311461\n",
       " 2019-08-14   -0.000195\n",
       " 2019-08-15    0.357976\n",
       " 2019-08-16   -1.263246\n",
       " 2019-08-17    0.758690\n",
       " 2019-08-18    0.021694\n",
       " Freq: D, Name: A, dtype: float64, pandas.core.series.Series)"
      ]
     },
     "execution_count": 24,
     "metadata": {},
     "output_type": "execute_result"
    }
   ],
   "source": [
    "# 차원축소\n",
    "\n",
    "df.loc[: ,'A'] , type(df.loc[: ,'A'])"
   ]
  },
  {
   "cell_type": "code",
   "execution_count": 25,
   "metadata": {},
   "outputs": [
    {
     "data": {
      "text/plain": [
       "(                   A\n",
       " 2019-08-12  2.066089\n",
       " 2019-08-13 -0.311461\n",
       " 2019-08-14 -0.000195\n",
       " 2019-08-15  0.357976\n",
       " 2019-08-16 -1.263246\n",
       " 2019-08-17  0.758690\n",
       " 2019-08-18  0.021694, pandas.core.frame.DataFrame)"
      ]
     },
     "execution_count": 25,
     "metadata": {},
     "output_type": "execute_result"
    }
   ],
   "source": [
    "# 차원유지\n",
    "\n",
    "df.loc[: ,['A']] , type(df.loc[: ,['A']])\n"
   ]
  },
  {
   "cell_type": "code",
   "execution_count": 26,
   "metadata": {},
   "outputs": [
    {
     "data": {
      "text/html": [
       "<div>\n",
       "<style scoped>\n",
       "    .dataframe tbody tr th:only-of-type {\n",
       "        vertical-align: middle;\n",
       "    }\n",
       "\n",
       "    .dataframe tbody tr th {\n",
       "        vertical-align: top;\n",
       "    }\n",
       "\n",
       "    .dataframe thead th {\n",
       "        text-align: right;\n",
       "    }\n",
       "</style>\n",
       "<table border=\"1\" class=\"dataframe\">\n",
       "  <thead>\n",
       "    <tr style=\"text-align: right;\">\n",
       "      <th></th>\n",
       "      <th>A</th>\n",
       "      <th>C</th>\n",
       "    </tr>\n",
       "  </thead>\n",
       "  <tbody>\n",
       "    <tr>\n",
       "      <th>2019-08-13</th>\n",
       "      <td>-0.311461</td>\n",
       "      <td>-3.207003</td>\n",
       "    </tr>\n",
       "    <tr>\n",
       "      <th>2019-08-14</th>\n",
       "      <td>-0.000195</td>\n",
       "      <td>-0.640973</td>\n",
       "    </tr>\n",
       "    <tr>\n",
       "      <th>2019-08-15</th>\n",
       "      <td>0.357976</td>\n",
       "      <td>-0.749669</td>\n",
       "    </tr>\n",
       "  </tbody>\n",
       "</table>\n",
       "</div>"
      ],
      "text/plain": [
       "                   A         C\n",
       "2019-08-13 -0.311461 -3.207003\n",
       "2019-08-14 -0.000195 -0.640973\n",
       "2019-08-15  0.357976 -0.749669"
      ]
     },
     "execution_count": 26,
     "metadata": {},
     "output_type": "execute_result"
    }
   ],
   "source": [
    "df.loc[ '2019-08-13':'2019-08-15',['A','C'] ] # 차원 유지 = 데이터프레임"
   ]
  },
  {
   "cell_type": "code",
   "execution_count": 27,
   "metadata": {},
   "outputs": [
    {
     "data": {
      "text/plain": [
       "A   -0.311461\n",
       "C   -3.207003\n",
       "Name: 2019-08-13 00:00:00, dtype: float64"
      ]
     },
     "execution_count": 27,
     "metadata": {},
     "output_type": "execute_result"
    }
   ],
   "source": [
    "# 차원축소\n",
    "df.loc[ '2019-08-13', ['A','C']]"
   ]
  },
  {
   "cell_type": "code",
   "execution_count": 28,
   "metadata": {},
   "outputs": [
    {
     "data": {
      "text/html": [
       "<div>\n",
       "<style scoped>\n",
       "    .dataframe tbody tr th:only-of-type {\n",
       "        vertical-align: middle;\n",
       "    }\n",
       "\n",
       "    .dataframe tbody tr th {\n",
       "        vertical-align: top;\n",
       "    }\n",
       "\n",
       "    .dataframe thead th {\n",
       "        text-align: right;\n",
       "    }\n",
       "</style>\n",
       "<table border=\"1\" class=\"dataframe\">\n",
       "  <thead>\n",
       "    <tr style=\"text-align: right;\">\n",
       "      <th></th>\n",
       "      <th>A</th>\n",
       "      <th>C</th>\n",
       "    </tr>\n",
       "  </thead>\n",
       "  <tbody>\n",
       "    <tr>\n",
       "      <th>2019-08-13</th>\n",
       "      <td>-0.311461</td>\n",
       "      <td>-3.207003</td>\n",
       "    </tr>\n",
       "  </tbody>\n",
       "</table>\n",
       "</div>"
      ],
      "text/plain": [
       "                   A         C\n",
       "2019-08-13 -0.311461 -3.207003"
      ]
     },
     "execution_count": 28,
     "metadata": {},
     "output_type": "execute_result"
    }
   ],
   "source": [
    "# 차원유지\n",
    "df.loc[ '2019-08-13':'2019-08-13', ['A','C']]"
   ]
  },
  {
   "cell_type": "code",
   "execution_count": 29,
   "metadata": {},
   "outputs": [
    {
     "data": {
      "text/plain": [
       "2.066088577552664"
      ]
     },
     "execution_count": 29,
     "metadata": {},
     "output_type": "execute_result"
    }
   ],
   "source": [
    "# 차원축소가 2회 진행 -> 스칼라 (값)\n",
    "df.loc['2019-08-12','A']"
   ]
  },
  {
   "cell_type": "markdown",
   "metadata": {},
   "source": [
    "### iloc \n",
    "\n",
    "- 펜시인덱싱과 유사하다.\n",
    "- 행과 열의 번호를 이용하여 데이터를 접근하는 방식\n",
    "- i -> index"
   ]
  },
  {
   "cell_type": "code",
   "execution_count": 30,
   "metadata": {},
   "outputs": [
    {
     "data": {
      "text/plain": [
       "A   -0.311461\n",
       "B    0.436934\n",
       "C   -3.207003\n",
       "D    1.550388\n",
       "Name: 2019-08-13 00:00:00, dtype: float64"
      ]
     },
     "execution_count": 30,
     "metadata": {},
     "output_type": "execute_result"
    }
   ],
   "source": [
    "# 2019-08-13wk epdlxj cncnf\n",
    "# 1 => 인덱스 값이 1인 데이터\n",
    "df.iloc[ 1 ]"
   ]
  },
  {
   "cell_type": "code",
   "execution_count": 31,
   "metadata": {},
   "outputs": [
    {
     "data": {
      "text/html": [
       "<div>\n",
       "<style scoped>\n",
       "    .dataframe tbody tr th:only-of-type {\n",
       "        vertical-align: middle;\n",
       "    }\n",
       "\n",
       "    .dataframe tbody tr th {\n",
       "        vertical-align: top;\n",
       "    }\n",
       "\n",
       "    .dataframe thead th {\n",
       "        text-align: right;\n",
       "    }\n",
       "</style>\n",
       "<table border=\"1\" class=\"dataframe\">\n",
       "  <thead>\n",
       "    <tr style=\"text-align: right;\">\n",
       "      <th></th>\n",
       "      <th>B</th>\n",
       "      <th>C</th>\n",
       "    </tr>\n",
       "  </thead>\n",
       "  <tbody>\n",
       "    <tr>\n",
       "      <th>2019-08-13</th>\n",
       "      <td>0.436934</td>\n",
       "      <td>-3.207003</td>\n",
       "    </tr>\n",
       "    <tr>\n",
       "      <th>2019-08-14</th>\n",
       "      <td>0.688413</td>\n",
       "      <td>-0.640973</td>\n",
       "    </tr>\n",
       "  </tbody>\n",
       "</table>\n",
       "</div>"
      ],
      "text/plain": [
       "                   B         C\n",
       "2019-08-13  0.436934 -3.207003\n",
       "2019-08-14  0.688413 -0.640973"
      ]
     },
     "execution_count": 31,
     "metadata": {},
     "output_type": "execute_result"
    }
   ],
   "source": [
    "# iloc 슬라이싱\n",
    "# a <= index < b, c <= column < d\n",
    "df.iloc[ 1:3, 1:3 ]"
   ]
  },
  {
   "cell_type": "code",
   "execution_count": 32,
   "metadata": {},
   "outputs": [
    {
     "data": {
      "text/html": [
       "<div>\n",
       "<style scoped>\n",
       "    .dataframe tbody tr th:only-of-type {\n",
       "        vertical-align: middle;\n",
       "    }\n",
       "\n",
       "    .dataframe tbody tr th {\n",
       "        vertical-align: top;\n",
       "    }\n",
       "\n",
       "    .dataframe thead th {\n",
       "        text-align: right;\n",
       "    }\n",
       "</style>\n",
       "<table border=\"1\" class=\"dataframe\">\n",
       "  <thead>\n",
       "    <tr style=\"text-align: right;\">\n",
       "      <th></th>\n",
       "      <th>B</th>\n",
       "      <th>A</th>\n",
       "      <th>C</th>\n",
       "    </tr>\n",
       "  </thead>\n",
       "  <tbody>\n",
       "    <tr>\n",
       "      <th>2019-08-13</th>\n",
       "      <td>0.436934</td>\n",
       "      <td>-0.311461</td>\n",
       "      <td>-3.207003</td>\n",
       "    </tr>\n",
       "    <tr>\n",
       "      <th>2019-08-16</th>\n",
       "      <td>-0.623990</td>\n",
       "      <td>-1.263246</td>\n",
       "      <td>1.130878</td>\n",
       "    </tr>\n",
       "    <tr>\n",
       "      <th>2019-08-14</th>\n",
       "      <td>0.688413</td>\n",
       "      <td>-0.000195</td>\n",
       "      <td>-0.640973</td>\n",
       "    </tr>\n",
       "  </tbody>\n",
       "</table>\n",
       "</div>"
      ],
      "text/plain": [
       "                   B         A         C\n",
       "2019-08-13  0.436934 -0.311461 -3.207003\n",
       "2019-08-16 -0.623990 -1.263246  1.130878\n",
       "2019-08-14  0.688413 -0.000195 -0.640973"
      ]
     },
     "execution_count": 32,
     "metadata": {},
     "output_type": "execute_result"
    }
   ],
   "source": [
    "# iloc + 펜시인덱싱 기법 사용 (인덱스, 컬럼을 비연속적 위치를 나열)\n",
    "df.iloc[ [1,4,2] , [1,0,2] ]"
   ]
  },
  {
   "cell_type": "code",
   "execution_count": 33,
   "metadata": {},
   "outputs": [
    {
     "data": {
      "text/html": [
       "<div>\n",
       "<style scoped>\n",
       "    .dataframe tbody tr th:only-of-type {\n",
       "        vertical-align: middle;\n",
       "    }\n",
       "\n",
       "    .dataframe tbody tr th {\n",
       "        vertical-align: top;\n",
       "    }\n",
       "\n",
       "    .dataframe thead th {\n",
       "        text-align: right;\n",
       "    }\n",
       "</style>\n",
       "<table border=\"1\" class=\"dataframe\">\n",
       "  <thead>\n",
       "    <tr style=\"text-align: right;\">\n",
       "      <th></th>\n",
       "      <th>A</th>\n",
       "      <th>B</th>\n",
       "      <th>C</th>\n",
       "      <th>D</th>\n",
       "    </tr>\n",
       "  </thead>\n",
       "  <tbody>\n",
       "    <tr>\n",
       "      <th>2019-08-12</th>\n",
       "      <td>2.066089</td>\n",
       "      <td>-1.049189</td>\n",
       "      <td>1.522142</td>\n",
       "      <td>-0.481156</td>\n",
       "    </tr>\n",
       "    <tr>\n",
       "      <th>2019-08-16</th>\n",
       "      <td>-1.263246</td>\n",
       "      <td>-0.623990</td>\n",
       "      <td>1.130878</td>\n",
       "      <td>0.571936</td>\n",
       "    </tr>\n",
       "    <tr>\n",
       "      <th>2019-08-17</th>\n",
       "      <td>0.758690</td>\n",
       "      <td>0.697541</td>\n",
       "      <td>1.920590</td>\n",
       "      <td>-1.032480</td>\n",
       "    </tr>\n",
       "  </tbody>\n",
       "</table>\n",
       "</div>"
      ],
      "text/plain": [
       "                   A         B         C         D\n",
       "2019-08-12  2.066089 -1.049189  1.522142 -0.481156\n",
       "2019-08-16 -1.263246 -0.623990  1.130878  0.571936\n",
       "2019-08-17  0.758690  0.697541  1.920590 -1.032480"
      ]
     },
     "execution_count": 33,
     "metadata": {},
     "output_type": "execute_result"
    }
   ],
   "source": [
    "# 특정 조건에 만족하는 데이터만 추출\n",
    "# 데이터프레임이 생성되면 컬럼명은 맴버 변수로 자동생성됨( df. 찍고 탭 눌러보면 A,B,C,D가 뜬다.)\n",
    "# C 컬럼에 존재하는 데이터 중에 양수만( 양수면 True, 0이하면 False)\n",
    "# 조건을 부여하여 블리언 데이터를 만들어 참만 포함시키는 방식 : 블리언 인덱싱\n",
    "# [T, F, F, F, T, T, T] 데이터를 and하면 참만 살아나마서 아래와 같은 결과를 발생\n",
    "# df에 식을 치면 => 전체 구성원에 전부 다 연산이 진행된다.\n",
    "# 행렬 (연산) 값 => 각 구성원에 일일이 다 연산하는 것과 동일\n",
    "df[df.C > 0]"
   ]
  },
  {
   "cell_type": "code",
   "execution_count": 34,
   "metadata": {},
   "outputs": [
    {
     "data": {
      "text/html": [
       "<div>\n",
       "<style scoped>\n",
       "    .dataframe tbody tr th:only-of-type {\n",
       "        vertical-align: middle;\n",
       "    }\n",
       "\n",
       "    .dataframe tbody tr th {\n",
       "        vertical-align: top;\n",
       "    }\n",
       "\n",
       "    .dataframe thead th {\n",
       "        text-align: right;\n",
       "    }\n",
       "</style>\n",
       "<table border=\"1\" class=\"dataframe\">\n",
       "  <thead>\n",
       "    <tr style=\"text-align: right;\">\n",
       "      <th></th>\n",
       "      <th>A</th>\n",
       "      <th>B</th>\n",
       "      <th>C</th>\n",
       "      <th>D</th>\n",
       "    </tr>\n",
       "  </thead>\n",
       "  <tbody>\n",
       "    <tr>\n",
       "      <th>2019-08-12</th>\n",
       "      <td>2.066089</td>\n",
       "      <td>NaN</td>\n",
       "      <td>1.522142</td>\n",
       "      <td>NaN</td>\n",
       "    </tr>\n",
       "    <tr>\n",
       "      <th>2019-08-13</th>\n",
       "      <td>NaN</td>\n",
       "      <td>0.436934</td>\n",
       "      <td>NaN</td>\n",
       "      <td>1.550388</td>\n",
       "    </tr>\n",
       "    <tr>\n",
       "      <th>2019-08-14</th>\n",
       "      <td>NaN</td>\n",
       "      <td>0.688413</td>\n",
       "      <td>NaN</td>\n",
       "      <td>0.555134</td>\n",
       "    </tr>\n",
       "    <tr>\n",
       "      <th>2019-08-15</th>\n",
       "      <td>0.357976</td>\n",
       "      <td>0.122171</td>\n",
       "      <td>NaN</td>\n",
       "      <td>0.465207</td>\n",
       "    </tr>\n",
       "    <tr>\n",
       "      <th>2019-08-16</th>\n",
       "      <td>NaN</td>\n",
       "      <td>NaN</td>\n",
       "      <td>1.130878</td>\n",
       "      <td>0.571936</td>\n",
       "    </tr>\n",
       "    <tr>\n",
       "      <th>2019-08-17</th>\n",
       "      <td>0.758690</td>\n",
       "      <td>0.697541</td>\n",
       "      <td>1.920590</td>\n",
       "      <td>NaN</td>\n",
       "    </tr>\n",
       "    <tr>\n",
       "      <th>2019-08-18</th>\n",
       "      <td>0.021694</td>\n",
       "      <td>NaN</td>\n",
       "      <td>NaN</td>\n",
       "      <td>0.424944</td>\n",
       "    </tr>\n",
       "  </tbody>\n",
       "</table>\n",
       "</div>"
      ],
      "text/plain": [
       "                   A         B         C         D\n",
       "2019-08-12  2.066089       NaN  1.522142       NaN\n",
       "2019-08-13       NaN  0.436934       NaN  1.550388\n",
       "2019-08-14       NaN  0.688413       NaN  0.555134\n",
       "2019-08-15  0.357976  0.122171       NaN  0.465207\n",
       "2019-08-16       NaN       NaN  1.130878  0.571936\n",
       "2019-08-17  0.758690  0.697541  1.920590       NaN\n",
       "2019-08-18  0.021694       NaN       NaN  0.424944"
      ]
     },
     "execution_count": 34,
     "metadata": {},
     "output_type": "execute_result"
    }
   ],
   "source": [
    "# 데이터 전체를 기준으로 0보다 큰가? 0보다 같거나 작은 데이터들은? ==> Nan으로 대체\n",
    "df[df > 0]"
   ]
  },
  {
   "cell_type": "code",
   "execution_count": 35,
   "metadata": {},
   "outputs": [
    {
     "data": {
      "text/plain": [
       "(                   A         B         C         D\n",
       " 2019-08-12  2.066089 -1.049189  1.522142 -0.481156\n",
       " 2019-08-13 -0.311461  0.436934 -3.207003  1.550388\n",
       " 2019-08-14 -0.000195  0.688413 -0.640973  0.555134\n",
       " 2019-08-15  0.357976  0.122171 -0.749669  0.465207\n",
       " 2019-08-16 -1.263246 -0.623990  1.130878  0.571936\n",
       " 2019-08-17  0.758690  0.697541  1.920590 -1.032480\n",
       " 2019-08-18  0.021694 -0.932477 -1.322300  0.424944,\n",
       "                    A         B         C         D\n",
       " 2019-08-12  2.066089 -1.049189  1.522142 -0.481156\n",
       " 2019-08-13 -0.311461  0.436934 -3.207003  1.550388\n",
       " 2019-08-14 -0.000195  0.688413 -0.640973  0.555134\n",
       " 2019-08-15  0.357976  0.122171 -0.749669  0.465207\n",
       " 2019-08-16 -1.263246 -0.623990  1.130878  0.571936\n",
       " 2019-08-17  0.758690  0.697541  1.920590 -1.032480\n",
       " 2019-08-18  0.021694 -0.932477 -1.322300  0.424944)"
      ]
     },
     "execution_count": 35,
     "metadata": {},
     "output_type": "execute_result"
    }
   ],
   "source": [
    "# 복사\n",
    "df.copy(), df[:]"
   ]
  },
  {
   "cell_type": "code",
   "execution_count": 36,
   "metadata": {},
   "outputs": [],
   "source": [
    "# 기존데이터 df에 새로운 컬럼을 추가한다!! (아주 중요) => 파생변수\n",
    "# 기존 df의 1차원과 동수의 데이터가 존재해야 한다.\n",
    "# 데이터는 리스트 ok, Series도 ok\n",
    "new_data = ['one','one','two','three','four','five','five']\n",
    "# 데이터 추가, 대상[ 신규컬럼명 ] = 데이터\n",
    "df['E'] = new_data"
   ]
  },
  {
   "cell_type": "code",
   "execution_count": 37,
   "metadata": {},
   "outputs": [
    {
     "data": {
      "text/html": [
       "<div>\n",
       "<style scoped>\n",
       "    .dataframe tbody tr th:only-of-type {\n",
       "        vertical-align: middle;\n",
       "    }\n",
       "\n",
       "    .dataframe tbody tr th {\n",
       "        vertical-align: top;\n",
       "    }\n",
       "\n",
       "    .dataframe thead th {\n",
       "        text-align: right;\n",
       "    }\n",
       "</style>\n",
       "<table border=\"1\" class=\"dataframe\">\n",
       "  <thead>\n",
       "    <tr style=\"text-align: right;\">\n",
       "      <th></th>\n",
       "      <th>A</th>\n",
       "      <th>B</th>\n",
       "      <th>C</th>\n",
       "      <th>D</th>\n",
       "      <th>E</th>\n",
       "    </tr>\n",
       "  </thead>\n",
       "  <tbody>\n",
       "    <tr>\n",
       "      <th>2019-08-12</th>\n",
       "      <td>2.066089</td>\n",
       "      <td>-1.049189</td>\n",
       "      <td>1.522142</td>\n",
       "      <td>-0.481156</td>\n",
       "      <td>one</td>\n",
       "    </tr>\n",
       "    <tr>\n",
       "      <th>2019-08-13</th>\n",
       "      <td>-0.311461</td>\n",
       "      <td>0.436934</td>\n",
       "      <td>-3.207003</td>\n",
       "      <td>1.550388</td>\n",
       "      <td>one</td>\n",
       "    </tr>\n",
       "    <tr>\n",
       "      <th>2019-08-14</th>\n",
       "      <td>-0.000195</td>\n",
       "      <td>0.688413</td>\n",
       "      <td>-0.640973</td>\n",
       "      <td>0.555134</td>\n",
       "      <td>two</td>\n",
       "    </tr>\n",
       "    <tr>\n",
       "      <th>2019-08-15</th>\n",
       "      <td>0.357976</td>\n",
       "      <td>0.122171</td>\n",
       "      <td>-0.749669</td>\n",
       "      <td>0.465207</td>\n",
       "      <td>three</td>\n",
       "    </tr>\n",
       "    <tr>\n",
       "      <th>2019-08-16</th>\n",
       "      <td>-1.263246</td>\n",
       "      <td>-0.623990</td>\n",
       "      <td>1.130878</td>\n",
       "      <td>0.571936</td>\n",
       "      <td>four</td>\n",
       "    </tr>\n",
       "    <tr>\n",
       "      <th>2019-08-17</th>\n",
       "      <td>0.758690</td>\n",
       "      <td>0.697541</td>\n",
       "      <td>1.920590</td>\n",
       "      <td>-1.032480</td>\n",
       "      <td>five</td>\n",
       "    </tr>\n",
       "    <tr>\n",
       "      <th>2019-08-18</th>\n",
       "      <td>0.021694</td>\n",
       "      <td>-0.932477</td>\n",
       "      <td>-1.322300</td>\n",
       "      <td>0.424944</td>\n",
       "      <td>five</td>\n",
       "    </tr>\n",
       "  </tbody>\n",
       "</table>\n",
       "</div>"
      ],
      "text/plain": [
       "                   A         B         C         D      E\n",
       "2019-08-12  2.066089 -1.049189  1.522142 -0.481156    one\n",
       "2019-08-13 -0.311461  0.436934 -3.207003  1.550388    one\n",
       "2019-08-14 -0.000195  0.688413 -0.640973  0.555134    two\n",
       "2019-08-15  0.357976  0.122171 -0.749669  0.465207  three\n",
       "2019-08-16 -1.263246 -0.623990  1.130878  0.571936   four\n",
       "2019-08-17  0.758690  0.697541  1.920590 -1.032480   five\n",
       "2019-08-18  0.021694 -0.932477 -1.322300  0.424944   five"
      ]
     },
     "execution_count": 37,
     "metadata": {},
     "output_type": "execute_result"
    }
   ],
   "source": [
    "df"
   ]
  },
  {
   "cell_type": "code",
   "execution_count": 38,
   "metadata": {},
   "outputs": [
    {
     "data": {
      "text/plain": [
       "2019-08-12    False\n",
       "2019-08-13    False\n",
       "2019-08-14     True\n",
       "2019-08-15    False\n",
       "2019-08-16     True\n",
       "2019-08-17    False\n",
       "2019-08-18    False\n",
       "Freq: D, Name: E, dtype: bool"
      ]
     },
     "execution_count": 38,
     "metadata": {},
     "output_type": "execute_result"
    }
   ],
   "source": [
    "# 데이터 조사\n",
    "# 안에 그런 값이 있는가?  => False, True\n",
    "df['E'].isin(['two','four'])"
   ]
  },
  {
   "cell_type": "code",
   "execution_count": 39,
   "metadata": {},
   "outputs": [
    {
     "data": {
      "text/html": [
       "<div>\n",
       "<style scoped>\n",
       "    .dataframe tbody tr th:only-of-type {\n",
       "        vertical-align: middle;\n",
       "    }\n",
       "\n",
       "    .dataframe tbody tr th {\n",
       "        vertical-align: top;\n",
       "    }\n",
       "\n",
       "    .dataframe thead th {\n",
       "        text-align: right;\n",
       "    }\n",
       "</style>\n",
       "<table border=\"1\" class=\"dataframe\">\n",
       "  <thead>\n",
       "    <tr style=\"text-align: right;\">\n",
       "      <th></th>\n",
       "      <th>A</th>\n",
       "      <th>B</th>\n",
       "      <th>C</th>\n",
       "      <th>D</th>\n",
       "      <th>E</th>\n",
       "    </tr>\n",
       "  </thead>\n",
       "  <tbody>\n",
       "    <tr>\n",
       "      <th>2019-08-14</th>\n",
       "      <td>-0.000195</td>\n",
       "      <td>0.688413</td>\n",
       "      <td>-0.640973</td>\n",
       "      <td>0.555134</td>\n",
       "      <td>two</td>\n",
       "    </tr>\n",
       "    <tr>\n",
       "      <th>2019-08-16</th>\n",
       "      <td>-1.263246</td>\n",
       "      <td>-0.623990</td>\n",
       "      <td>1.130878</td>\n",
       "      <td>0.571936</td>\n",
       "      <td>four</td>\n",
       "    </tr>\n",
       "  </tbody>\n",
       "</table>\n",
       "</div>"
      ],
      "text/plain": [
       "                   A         B         C         D     E\n",
       "2019-08-14 -0.000195  0.688413 -0.640973  0.555134   two\n",
       "2019-08-16 -1.263246 -0.623990  1.130878  0.571936  four"
      ]
     },
     "execution_count": 39,
     "metadata": {},
     "output_type": "execute_result"
    }
   ],
   "source": [
    "df[df['E'].isin(['two','four'])]"
   ]
  },
  {
   "cell_type": "code",
   "execution_count": 57,
   "metadata": {
    "scrolled": true
   },
   "outputs": [
    {
     "data": {
      "text/html": [
       "<div>\n",
       "<style scoped>\n",
       "    .dataframe tbody tr th:only-of-type {\n",
       "        vertical-align: middle;\n",
       "    }\n",
       "\n",
       "    .dataframe tbody tr th {\n",
       "        vertical-align: top;\n",
       "    }\n",
       "\n",
       "    .dataframe thead th {\n",
       "        text-align: right;\n",
       "    }\n",
       "</style>\n",
       "<table border=\"1\" class=\"dataframe\">\n",
       "  <thead>\n",
       "    <tr style=\"text-align: right;\">\n",
       "      <th></th>\n",
       "      <th>A</th>\n",
       "      <th>B</th>\n",
       "      <th>C</th>\n",
       "      <th>D</th>\n",
       "    </tr>\n",
       "  </thead>\n",
       "  <tbody>\n",
       "    <tr>\n",
       "      <th>2019-08-12</th>\n",
       "      <td>2.066089</td>\n",
       "      <td>-1.049189</td>\n",
       "      <td>1.522142</td>\n",
       "      <td>-0.481156</td>\n",
       "    </tr>\n",
       "    <tr>\n",
       "      <th>2019-08-13</th>\n",
       "      <td>1.754627</td>\n",
       "      <td>-0.612256</td>\n",
       "      <td>-1.684861</td>\n",
       "      <td>1.069232</td>\n",
       "    </tr>\n",
       "    <tr>\n",
       "      <th>2019-08-14</th>\n",
       "      <td>1.754432</td>\n",
       "      <td>0.076158</td>\n",
       "      <td>-2.325833</td>\n",
       "      <td>1.624366</td>\n",
       "    </tr>\n",
       "    <tr>\n",
       "      <th>2019-08-15</th>\n",
       "      <td>2.112409</td>\n",
       "      <td>0.198328</td>\n",
       "      <td>-3.075502</td>\n",
       "      <td>2.089573</td>\n",
       "    </tr>\n",
       "    <tr>\n",
       "      <th>2019-08-16</th>\n",
       "      <td>0.849162</td>\n",
       "      <td>-0.425661</td>\n",
       "      <td>-1.944624</td>\n",
       "      <td>2.661509</td>\n",
       "    </tr>\n",
       "    <tr>\n",
       "      <th>2019-08-17</th>\n",
       "      <td>1.607852</td>\n",
       "      <td>0.271880</td>\n",
       "      <td>-0.024034</td>\n",
       "      <td>1.629029</td>\n",
       "    </tr>\n",
       "    <tr>\n",
       "      <th>2019-08-18</th>\n",
       "      <td>1.629546</td>\n",
       "      <td>-0.660597</td>\n",
       "      <td>-1.346335</td>\n",
       "      <td>2.053973</td>\n",
       "    </tr>\n",
       "  </tbody>\n",
       "</table>\n",
       "</div>"
      ],
      "text/plain": [
       "                   A         B         C         D\n",
       "2019-08-12  2.066089 -1.049189  1.522142 -0.481156\n",
       "2019-08-13  1.754627 -0.612256 -1.684861  1.069232\n",
       "2019-08-14  1.754432  0.076158 -2.325833  1.624366\n",
       "2019-08-15  2.112409  0.198328 -3.075502  2.089573\n",
       "2019-08-16  0.849162 -0.425661 -1.944624  2.661509\n",
       "2019-08-17  1.607852  0.271880 -0.024034  1.629029\n",
       "2019-08-18  1.629546 -0.660597 -1.346335  2.053973"
      ]
     },
     "execution_count": 57,
     "metadata": {},
     "output_type": "execute_result"
    }
   ],
   "source": [
    "# 누적값 \n",
    "# apply ( 함수를 표현 ) => 맴버들을 다 건드린다.\n",
    "df.apply(np.cumsum)"
   ]
  },
  {
   "cell_type": "code",
   "execution_count": 61,
   "metadata": {},
   "outputs": [
    {
     "ename": "SyntaxError",
     "evalue": "invalid syntax (<ipython-input-61-c382c19df846>, line 1)",
     "output_type": "error",
     "traceback": [
      "\u001b[1;36m  File \u001b[1;32m\"<ipython-input-61-c382c19df846>\"\u001b[1;36m, line \u001b[1;32m1\u001b[0m\n\u001b[1;33m    try\u001b[0m\n\u001b[1;37m       ^\u001b[0m\n\u001b[1;31mSyntaxError\u001b[0m\u001b[1;31m:\u001b[0m invalid syntax\n"
     ]
    }
   ],
   "source": [
    "try\n",
    "# 제거\n",
    "    df.drop(['E'],inplace = True, axis =1)\n",
    "    df\n",
    "except Exception as e:\n",
    "    pass  # try~ except예외 처리 \n"
   ]
  },
  {
   "cell_type": "code",
   "execution_count": 55,
   "metadata": {},
   "outputs": [
    {
     "data": {
      "text/plain": [
       "A    3.329335\n",
       "B    1.746731\n",
       "C    5.127593\n",
       "D    2.582868\n",
       "dtype: float64"
      ]
     },
     "execution_count": 55,
     "metadata": {},
     "output_type": "execute_result"
    }
   ],
   "source": [
    "# 각 컬럼의 최대값에서 최소값을 뺀 값 -> 거리 : distance\n",
    "df.apply(lambda x:x.max()-x.min())"
   ]
  },
  {
   "cell_type": "code",
   "execution_count": 63,
   "metadata": {},
   "outputs": [
    {
     "data": {
      "text/plain": [
       "(A    2.066089\n",
       " B    0.697541\n",
       " C    1.920590\n",
       " D    1.550388\n",
       " dtype: float64, A   -1.263246\n",
       " B   -1.049189\n",
       " C   -3.207003\n",
       " D   -1.032480\n",
       " dtype: float64)"
      ]
     },
     "execution_count": 63,
     "metadata": {},
     "output_type": "execute_result"
    }
   ],
   "source": [
    "df.max(), df.min()"
   ]
  },
  {
   "cell_type": "code",
   "execution_count": null,
   "metadata": {},
   "outputs": [],
   "source": []
  },
  {
   "cell_type": "code",
   "execution_count": null,
   "metadata": {},
   "outputs": [],
   "source": []
  },
  {
   "cell_type": "code",
   "execution_count": null,
   "metadata": {},
   "outputs": [],
   "source": []
  },
  {
   "cell_type": "code",
   "execution_count": null,
   "metadata": {},
   "outputs": [],
   "source": []
  },
  {
   "cell_type": "code",
   "execution_count": null,
   "metadata": {},
   "outputs": [],
   "source": []
  },
  {
   "cell_type": "code",
   "execution_count": null,
   "metadata": {},
   "outputs": [],
   "source": []
  }
 ],
 "metadata": {
  "kernelspec": {
   "display_name": "Python 3",
   "language": "python",
   "name": "python3"
  },
  "language_info": {
   "codemirror_mode": {
    "name": "ipython",
    "version": 3
   },
   "file_extension": ".py",
   "mimetype": "text/x-python",
   "name": "python",
   "nbconvert_exporter": "python",
   "pygments_lexer": "ipython3",
   "version": "3.6.9"
  }
 },
 "nbformat": 4,
 "nbformat_minor": 2
}
