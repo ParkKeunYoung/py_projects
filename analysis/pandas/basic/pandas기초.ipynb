{
 "cells": [
  {
   "cell_type": "markdown",
   "metadata": {},
   "source": [
    "## pandas 기초\n",
    "\n",
    "- pandas는 R의 핵심 데이터 시리즈와 프레이믈 파이썬의 추가한 것이다\n",
    "- numpay를 기반으로 구현되었고, numpy 대비 기능을 더 확장하여 재구현한 것\n",
    "- Python Data analysis Library\n",
    "- https://pandas.pydata.org"
   ]
  },
  {
   "cell_type": "code",
   "execution_count": 1,
   "metadata": {},
   "outputs": [],
   "source": [
    "import numpy as np\n",
    "import pandas as pd"
   ]
  },
  {
   "cell_type": "markdown",
   "metadata": {},
   "source": [
    "- 파이썬의 자료구조\n",
    "> 수치형, 문자열, 리스트, 딕셔너리, 튜플, 집합, 블린\n",
    "- numpy의 자료구조\n",
    "> ndarray(배열) : 배열의 데이터는 모든 같은 타입이다.\n",
    "- pandas의 자료구조\n",
    "> Series(시리즈), DataFrame(데이터프레임)\n",
    "> DataFrame의 인덱싱 -> Series의 인덱싱 -> 값(스칼라), 수치, 문자 블린,NaN 이 등장\n",
    "> Series: 인덱스와 데이터만 존재하는 컬럼이 없는 자료구조\n",
    "> DataFrame: 인덱스와 컬럼이 존재하는 자료구조\n",
    "> NaN: 데이터가 없다. (난,넌), Not a Number => np.nan"
   ]
  },
  {
   "cell_type": "code",
   "execution_count": 5,
   "metadata": {},
   "outputs": [
    {
     "data": {
      "text/plain": [
       "0    1.0\n",
       "1    3.0\n",
       "2    5.0\n",
       "3    NaN\n",
       "4    6.0\n",
       "5    8.0\n",
       "dtype: float64"
      ]
     },
     "execution_count": 5,
     "metadata": {},
     "output_type": "execute_result"
    }
   ],
   "source": [
    "# Series\n",
    "# 데이터를 정수로 넣었으나 기볺여으로 float64가 반영되었다.\n",
    "a = pd.Series( [1,3,5,np.nan,6,8] )\n",
    "a"
   ]
  },
  {
   "cell_type": "code",
   "execution_count": 6,
   "metadata": {},
   "outputs": [
    {
     "data": {
      "text/plain": [
       "dtype('float64')"
      ]
     },
     "execution_count": 6,
     "metadata": {},
     "output_type": "execute_result"
    }
   ],
   "source": [
    "# 속성\n",
    "a.dtype"
   ]
  },
  {
   "cell_type": "code",
   "execution_count": 8,
   "metadata": {},
   "outputs": [
    {
     "data": {
      "text/plain": [
       "(6,)"
      ]
     },
     "execution_count": 8,
     "metadata": {},
     "output_type": "execute_result"
    }
   ],
   "source": [
    "# 속성-크기\n",
    "a.shape  # 1차원 데이터로 총 6개의 데이터가 존재"
   ]
  },
  {
   "cell_type": "code",
   "execution_count": 14,
   "metadata": {},
   "outputs": [
    {
     "data": {
      "text/plain": [
       "(['A', 'B', 'C', 'D'],\n",
       " DatetimeIndex(['2019-08-12', '2019-08-13', '2019-08-14', '2019-08-15',\n",
       "                '2019-08-16', '2019-08-17', '2019-08-18'],\n",
       "               dtype='datetime64[ns]', freq='D'))"
      ]
     },
     "execution_count": 14,
     "metadata": {},
     "output_type": "execute_result"
    }
   ],
   "source": [
    "# DataFrame\n",
    "# 인덱스와 컬럼이 존재하는 자료구조\n",
    "cols = 'ABCD' \n",
    "# ['','','',''] 리스트 로 만들기\n",
    "cols = list('ABCD')\n",
    "indexs = pd.date_range('20190812', periods=7)\n",
    "# 컬럼 4개 인덱스 7개\n",
    "cols,indexs"
   ]
  },
  {
   "cell_type": "code",
   "execution_count": 17,
   "metadata": {},
   "outputs": [
    {
     "data": {
      "text/plain": [
       "(array([[-0.33043964, -0.99615366,  0.46530276, -0.27684994],\n",
       "        [ 0.83423625, -0.0694506 , -0.93741214, -0.43618738],\n",
       "        [-0.72058705, -0.62864201, -0.01114932,  1.08823353],\n",
       "        [-0.13242627, -0.18732976,  0.40462458,  1.84195197],\n",
       "        [-0.38020317, -0.06874349, -0.15976487, -0.45920546],\n",
       "        [-0.72155494,  0.90859108, -0.94873165,  0.08819295],\n",
       "        [ 0.58938677, -0.42004079, -2.43708461,  0.70920791]]), (7, 4))"
      ]
     },
     "execution_count": 17,
     "metadata": {},
     "output_type": "execute_result"
    }
   ],
   "source": [
    "# 데이터는  shape => (7,4) # 인덱스 값이 먼저, 뒤가 컬럼값\n",
    "datas = np.random.randn(7,4)\n",
    "datas, datas.shape"
   ]
  },
  {
   "cell_type": "code",
   "execution_count": 20,
   "metadata": {},
   "outputs": [
    {
     "data": {
      "text/html": [
       "<div>\n",
       "<style scoped>\n",
       "    .dataframe tbody tr th:only-of-type {\n",
       "        vertical-align: middle;\n",
       "    }\n",
       "\n",
       "    .dataframe tbody tr th {\n",
       "        vertical-align: top;\n",
       "    }\n",
       "\n",
       "    .dataframe thead th {\n",
       "        text-align: right;\n",
       "    }\n",
       "</style>\n",
       "<table border=\"1\" class=\"dataframe\">\n",
       "  <thead>\n",
       "    <tr style=\"text-align: right;\">\n",
       "      <th></th>\n",
       "      <th>A</th>\n",
       "      <th>B</th>\n",
       "      <th>C</th>\n",
       "      <th>D</th>\n",
       "    </tr>\n",
       "  </thead>\n",
       "  <tbody>\n",
       "    <tr>\n",
       "      <th>2019-08-12</th>\n",
       "      <td>-0.330440</td>\n",
       "      <td>-0.996154</td>\n",
       "      <td>0.465303</td>\n",
       "      <td>-0.276850</td>\n",
       "    </tr>\n",
       "    <tr>\n",
       "      <th>2019-08-13</th>\n",
       "      <td>0.834236</td>\n",
       "      <td>-0.069451</td>\n",
       "      <td>-0.937412</td>\n",
       "      <td>-0.436187</td>\n",
       "    </tr>\n",
       "    <tr>\n",
       "      <th>2019-08-14</th>\n",
       "      <td>-0.720587</td>\n",
       "      <td>-0.628642</td>\n",
       "      <td>-0.011149</td>\n",
       "      <td>1.088234</td>\n",
       "    </tr>\n",
       "    <tr>\n",
       "      <th>2019-08-15</th>\n",
       "      <td>-0.132426</td>\n",
       "      <td>-0.187330</td>\n",
       "      <td>0.404625</td>\n",
       "      <td>1.841952</td>\n",
       "    </tr>\n",
       "    <tr>\n",
       "      <th>2019-08-16</th>\n",
       "      <td>-0.380203</td>\n",
       "      <td>-0.068743</td>\n",
       "      <td>-0.159765</td>\n",
       "      <td>-0.459205</td>\n",
       "    </tr>\n",
       "    <tr>\n",
       "      <th>2019-08-17</th>\n",
       "      <td>-0.721555</td>\n",
       "      <td>0.908591</td>\n",
       "      <td>-0.948732</td>\n",
       "      <td>0.088193</td>\n",
       "    </tr>\n",
       "    <tr>\n",
       "      <th>2019-08-18</th>\n",
       "      <td>0.589387</td>\n",
       "      <td>-0.420041</td>\n",
       "      <td>-2.437085</td>\n",
       "      <td>0.709208</td>\n",
       "    </tr>\n",
       "  </tbody>\n",
       "</table>\n",
       "</div>"
      ],
      "text/plain": [
       "                   A         B         C         D\n",
       "2019-08-12 -0.330440 -0.996154  0.465303 -0.276850\n",
       "2019-08-13  0.834236 -0.069451 -0.937412 -0.436187\n",
       "2019-08-14 -0.720587 -0.628642 -0.011149  1.088234\n",
       "2019-08-15 -0.132426 -0.187330  0.404625  1.841952\n",
       "2019-08-16 -0.380203 -0.068743 -0.159765 -0.459205\n",
       "2019-08-17 -0.721555  0.908591 -0.948732  0.088193\n",
       "2019-08-18  0.589387 -0.420041 -2.437085  0.709208"
      ]
     },
     "execution_count": 20,
     "metadata": {},
     "output_type": "execute_result"
    }
   ],
   "source": [
    "# df 생성\n",
    "df = pd.DataFrame( datas,index=indexs,columns=cols)\n",
    "df"
   ]
  },
  {
   "cell_type": "markdown",
   "metadata": {},
   "source": [
    "- ** 데아터가 로드된 후 DataFrame을 만든 후 점검할 사항**"
   ]
  },
  {
   "cell_type": "code",
   "execution_count": 21,
   "metadata": {},
   "outputs": [
    {
     "data": {
      "text/plain": [
       "Index(['A', 'B', 'C', 'D'], dtype='object')"
      ]
     },
     "execution_count": 21,
     "metadata": {},
     "output_type": "execute_result"
    }
   ],
   "source": [
    "df.columns"
   ]
  },
  {
   "cell_type": "code",
   "execution_count": 23,
   "metadata": {},
   "outputs": [
    {
     "data": {
      "text/plain": [
       "DatetimeIndex(['2019-08-12', '2019-08-13', '2019-08-14', '2019-08-15',\n",
       "               '2019-08-16', '2019-08-17', '2019-08-18'],\n",
       "              dtype='datetime64[ns]', freq='D')"
      ]
     },
     "execution_count": 23,
     "metadata": {},
     "output_type": "execute_result"
    }
   ],
   "source": [
    "df.index"
   ]
  },
  {
   "cell_type": "code",
   "execution_count": 25,
   "metadata": {},
   "outputs": [
    {
     "data": {
      "text/plain": [
       "array([[-0.33043964, -0.99615366,  0.46530276, -0.27684994],\n",
       "       [ 0.83423625, -0.0694506 , -0.93741214, -0.43618738],\n",
       "       [-0.72058705, -0.62864201, -0.01114932,  1.08823353],\n",
       "       [-0.13242627, -0.18732976,  0.40462458,  1.84195197],\n",
       "       [-0.38020317, -0.06874349, -0.15976487, -0.45920546],\n",
       "       [-0.72155494,  0.90859108, -0.94873165,  0.08819295],\n",
       "       [ 0.58938677, -0.42004079, -2.43708461,  0.70920791]])"
      ]
     },
     "execution_count": 25,
     "metadata": {},
     "output_type": "execute_result"
    }
   ],
   "source": [
    "df.values"
   ]
  },
  {
   "cell_type": "code",
   "execution_count": 26,
   "metadata": {},
   "outputs": [
    {
     "data": {
      "text/plain": [
       "numpy.ndarray"
      ]
     },
     "execution_count": 26,
     "metadata": {},
     "output_type": "execute_result"
    }
   ],
   "source": [
    "type(df.values)"
   ]
  },
  {
   "cell_type": "code",
   "execution_count": 27,
   "metadata": {},
   "outputs": [
    {
     "data": {
      "text/plain": [
       "(7, 4)"
      ]
     },
     "execution_count": 27,
     "metadata": {},
     "output_type": "execute_result"
    }
   ],
   "source": [
    "df.shape"
   ]
  },
  {
   "cell_type": "code",
   "execution_count": 28,
   "metadata": {},
   "outputs": [
    {
     "data": {
      "text/plain": [
       "A    float64\n",
       "B    float64\n",
       "C    float64\n",
       "D    float64\n",
       "dtype: object"
      ]
     },
     "execution_count": 28,
     "metadata": {},
     "output_type": "execute_result"
    }
   ],
   "source": [
    "df.dtypes"
   ]
  },
  {
   "cell_type": "code",
   "execution_count": 29,
   "metadata": {},
   "outputs": [
    {
     "name": "stdout",
     "output_type": "stream",
     "text": [
      "<class 'pandas.core.frame.DataFrame'>\n",
      "DatetimeIndex: 7 entries, 2019-08-12 to 2019-08-18\n",
      "Freq: D\n",
      "Data columns (total 4 columns):\n",
      "A    7 non-null float64\n",
      "B    7 non-null float64\n",
      "C    7 non-null float64\n",
      "D    7 non-null float64\n",
      "dtypes: float64(4)\n",
      "memory usage: 280.0 bytes\n"
     ]
    }
   ],
   "source": [
    "# df의 개요\n",
    "df.info()"
   ]
  },
  {
   "cell_type": "code",
   "execution_count": 31,
   "metadata": {},
   "outputs": [
    {
     "data": {
      "text/html": [
       "<div>\n",
       "<style scoped>\n",
       "    .dataframe tbody tr th:only-of-type {\n",
       "        vertical-align: middle;\n",
       "    }\n",
       "\n",
       "    .dataframe tbody tr th {\n",
       "        vertical-align: top;\n",
       "    }\n",
       "\n",
       "    .dataframe thead th {\n",
       "        text-align: right;\n",
       "    }\n",
       "</style>\n",
       "<table border=\"1\" class=\"dataframe\">\n",
       "  <thead>\n",
       "    <tr style=\"text-align: right;\">\n",
       "      <th></th>\n",
       "      <th>A</th>\n",
       "      <th>B</th>\n",
       "      <th>C</th>\n",
       "      <th>D</th>\n",
       "    </tr>\n",
       "  </thead>\n",
       "  <tbody>\n",
       "    <tr>\n",
       "      <th>count</th>\n",
       "      <td>7.000000</td>\n",
       "      <td>7.000000</td>\n",
       "      <td>7.000000</td>\n",
       "      <td>7.000000</td>\n",
       "    </tr>\n",
       "    <tr>\n",
       "      <th>mean</th>\n",
       "      <td>-0.123084</td>\n",
       "      <td>-0.208824</td>\n",
       "      <td>-0.517745</td>\n",
       "      <td>0.365049</td>\n",
       "    </tr>\n",
       "    <tr>\n",
       "      <th>std</th>\n",
       "      <td>0.612161</td>\n",
       "      <td>0.595661</td>\n",
       "      <td>1.020431</td>\n",
       "      <td>0.878706</td>\n",
       "    </tr>\n",
       "    <tr>\n",
       "      <th>min</th>\n",
       "      <td>-0.721555</td>\n",
       "      <td>-0.996154</td>\n",
       "      <td>-2.437085</td>\n",
       "      <td>-0.459205</td>\n",
       "    </tr>\n",
       "    <tr>\n",
       "      <th>25%</th>\n",
       "      <td>-0.550395</td>\n",
       "      <td>-0.524341</td>\n",
       "      <td>-0.943072</td>\n",
       "      <td>-0.356519</td>\n",
       "    </tr>\n",
       "    <tr>\n",
       "      <th>50%</th>\n",
       "      <td>-0.330440</td>\n",
       "      <td>-0.187330</td>\n",
       "      <td>-0.159765</td>\n",
       "      <td>0.088193</td>\n",
       "    </tr>\n",
       "    <tr>\n",
       "      <th>75%</th>\n",
       "      <td>0.228480</td>\n",
       "      <td>-0.069097</td>\n",
       "      <td>0.196738</td>\n",
       "      <td>0.898721</td>\n",
       "    </tr>\n",
       "    <tr>\n",
       "      <th>max</th>\n",
       "      <td>0.834236</td>\n",
       "      <td>0.908591</td>\n",
       "      <td>0.465303</td>\n",
       "      <td>1.841952</td>\n",
       "    </tr>\n",
       "  </tbody>\n",
       "</table>\n",
       "</div>"
      ],
      "text/plain": [
       "              A         B         C         D\n",
       "count  7.000000  7.000000  7.000000  7.000000\n",
       "mean  -0.123084 -0.208824 -0.517745  0.365049\n",
       "std    0.612161  0.595661  1.020431  0.878706\n",
       "min   -0.721555 -0.996154 -2.437085 -0.459205\n",
       "25%   -0.550395 -0.524341 -0.943072 -0.356519\n",
       "50%   -0.330440 -0.187330 -0.159765  0.088193\n",
       "75%    0.228480 -0.069097  0.196738  0.898721\n",
       "max    0.834236  0.908591  0.465303  1.841952"
      ]
     },
     "execution_count": 31,
     "metadata": {},
     "output_type": "execute_result"
    }
   ],
   "source": [
    "# 통계요약 : 개수, 평균, 표준편차, 최소, 25%, 50%, 75% 최대\n",
    "df.describe()"
   ]
  },
  {
   "cell_type": "code",
   "execution_count": 34,
   "metadata": {},
   "outputs": [
    {
     "data": {
      "text/html": [
       "<div>\n",
       "<style scoped>\n",
       "    .dataframe tbody tr th:only-of-type {\n",
       "        vertical-align: middle;\n",
       "    }\n",
       "\n",
       "    .dataframe tbody tr th {\n",
       "        vertical-align: top;\n",
       "    }\n",
       "\n",
       "    .dataframe thead th {\n",
       "        text-align: right;\n",
       "    }\n",
       "</style>\n",
       "<table border=\"1\" class=\"dataframe\">\n",
       "  <thead>\n",
       "    <tr style=\"text-align: right;\">\n",
       "      <th></th>\n",
       "      <th>A</th>\n",
       "      <th>B</th>\n",
       "      <th>C</th>\n",
       "      <th>D</th>\n",
       "    </tr>\n",
       "  </thead>\n",
       "  <tbody>\n",
       "    <tr>\n",
       "      <th>2019-08-17</th>\n",
       "      <td>-0.721555</td>\n",
       "      <td>0.908591</td>\n",
       "      <td>-0.948732</td>\n",
       "      <td>0.088193</td>\n",
       "    </tr>\n",
       "    <tr>\n",
       "      <th>2019-08-16</th>\n",
       "      <td>-0.380203</td>\n",
       "      <td>-0.068743</td>\n",
       "      <td>-0.159765</td>\n",
       "      <td>-0.459205</td>\n",
       "    </tr>\n",
       "    <tr>\n",
       "      <th>2019-08-13</th>\n",
       "      <td>0.834236</td>\n",
       "      <td>-0.069451</td>\n",
       "      <td>-0.937412</td>\n",
       "      <td>-0.436187</td>\n",
       "    </tr>\n",
       "    <tr>\n",
       "      <th>2019-08-15</th>\n",
       "      <td>-0.132426</td>\n",
       "      <td>-0.187330</td>\n",
       "      <td>0.404625</td>\n",
       "      <td>1.841952</td>\n",
       "    </tr>\n",
       "    <tr>\n",
       "      <th>2019-08-18</th>\n",
       "      <td>0.589387</td>\n",
       "      <td>-0.420041</td>\n",
       "      <td>-2.437085</td>\n",
       "      <td>0.709208</td>\n",
       "    </tr>\n",
       "    <tr>\n",
       "      <th>2019-08-14</th>\n",
       "      <td>-0.720587</td>\n",
       "      <td>-0.628642</td>\n",
       "      <td>-0.011149</td>\n",
       "      <td>1.088234</td>\n",
       "    </tr>\n",
       "    <tr>\n",
       "      <th>2019-08-12</th>\n",
       "      <td>-0.330440</td>\n",
       "      <td>-0.996154</td>\n",
       "      <td>0.465303</td>\n",
       "      <td>-0.276850</td>\n",
       "    </tr>\n",
       "  </tbody>\n",
       "</table>\n",
       "</div>"
      ],
      "text/plain": [
       "                   A         B         C         D\n",
       "2019-08-17 -0.721555  0.908591 -0.948732  0.088193\n",
       "2019-08-16 -0.380203 -0.068743 -0.159765 -0.459205\n",
       "2019-08-13  0.834236 -0.069451 -0.937412 -0.436187\n",
       "2019-08-15 -0.132426 -0.187330  0.404625  1.841952\n",
       "2019-08-18  0.589387 -0.420041 -2.437085  0.709208\n",
       "2019-08-14 -0.720587 -0.628642 -0.011149  1.088234\n",
       "2019-08-12 -0.330440 -0.996154  0.465303 -0.276850"
      ]
     },
     "execution_count": 34,
     "metadata": {},
     "output_type": "execute_result"
    }
   ],
   "source": [
    "# B열 기준 데이터를 정렬, 내림차순, \n",
    "df.sort_values(by='B', ascending=False)"
   ]
  },
  {
   "cell_type": "code",
   "execution_count": 37,
   "metadata": {},
   "outputs": [
    {
     "data": {
      "text/plain": [
       "(2019-08-12    0.465303\n",
       " 2019-08-13   -0.937412\n",
       " 2019-08-14   -0.011149\n",
       " 2019-08-15    0.404625\n",
       " 2019-08-16   -0.159765\n",
       " 2019-08-17   -0.948732\n",
       " 2019-08-18   -2.437085\n",
       " Freq: D, Name: C, dtype: float64, pandas.core.series.Series)"
      ]
     },
     "execution_count": 37,
     "metadata": {},
     "output_type": "execute_result"
    }
   ],
   "source": [
    "# 특정 컬럼의 데이터만 보기 => 인덱싱 => 차원축소\n",
    "df['C'], type(df['C'])"
   ]
  },
  {
   "cell_type": "code",
   "execution_count": 39,
   "metadata": {},
   "outputs": [
    {
     "data": {
      "text/html": [
       "<div>\n",
       "<style scoped>\n",
       "    .dataframe tbody tr th:only-of-type {\n",
       "        vertical-align: middle;\n",
       "    }\n",
       "\n",
       "    .dataframe tbody tr th {\n",
       "        vertical-align: top;\n",
       "    }\n",
       "\n",
       "    .dataframe thead th {\n",
       "        text-align: right;\n",
       "    }\n",
       "</style>\n",
       "<table border=\"1\" class=\"dataframe\">\n",
       "  <thead>\n",
       "    <tr style=\"text-align: right;\">\n",
       "      <th></th>\n",
       "      <th>A</th>\n",
       "      <th>B</th>\n",
       "      <th>C</th>\n",
       "      <th>D</th>\n",
       "    </tr>\n",
       "  </thead>\n",
       "  <tbody>\n",
       "    <tr>\n",
       "      <th>2019-08-12</th>\n",
       "      <td>-0.330440</td>\n",
       "      <td>-0.996154</td>\n",
       "      <td>0.465303</td>\n",
       "      <td>-0.276850</td>\n",
       "    </tr>\n",
       "    <tr>\n",
       "      <th>2019-08-13</th>\n",
       "      <td>0.834236</td>\n",
       "      <td>-0.069451</td>\n",
       "      <td>-0.937412</td>\n",
       "      <td>-0.436187</td>\n",
       "    </tr>\n",
       "    <tr>\n",
       "      <th>2019-08-14</th>\n",
       "      <td>-0.720587</td>\n",
       "      <td>-0.628642</td>\n",
       "      <td>-0.011149</td>\n",
       "      <td>1.088234</td>\n",
       "    </tr>\n",
       "    <tr>\n",
       "      <th>2019-08-15</th>\n",
       "      <td>-0.132426</td>\n",
       "      <td>-0.187330</td>\n",
       "      <td>0.404625</td>\n",
       "      <td>1.841952</td>\n",
       "    </tr>\n",
       "    <tr>\n",
       "      <th>2019-08-16</th>\n",
       "      <td>-0.380203</td>\n",
       "      <td>-0.068743</td>\n",
       "      <td>-0.159765</td>\n",
       "      <td>-0.459205</td>\n",
       "    </tr>\n",
       "    <tr>\n",
       "      <th>2019-08-17</th>\n",
       "      <td>-0.721555</td>\n",
       "      <td>0.908591</td>\n",
       "      <td>-0.948732</td>\n",
       "      <td>0.088193</td>\n",
       "    </tr>\n",
       "    <tr>\n",
       "      <th>2019-08-18</th>\n",
       "      <td>0.589387</td>\n",
       "      <td>-0.420041</td>\n",
       "      <td>-2.437085</td>\n",
       "      <td>0.709208</td>\n",
       "    </tr>\n",
       "  </tbody>\n",
       "</table>\n",
       "</div>"
      ],
      "text/plain": [
       "                   A         B         C         D\n",
       "2019-08-12 -0.330440 -0.996154  0.465303 -0.276850\n",
       "2019-08-13  0.834236 -0.069451 -0.937412 -0.436187\n",
       "2019-08-14 -0.720587 -0.628642 -0.011149  1.088234\n",
       "2019-08-15 -0.132426 -0.187330  0.404625  1.841952\n",
       "2019-08-16 -0.380203 -0.068743 -0.159765 -0.459205\n",
       "2019-08-17 -0.721555  0.908591 -0.948732  0.088193\n",
       "2019-08-18  0.589387 -0.420041 -2.437085  0.709208"
      ]
     },
     "execution_count": 39,
     "metadata": {},
     "output_type": "execute_result"
    }
   ],
   "source": [
    "# 슬라이싱 : 차원유지\n",
    "df[:] # 카피 동일"
   ]
  },
  {
   "cell_type": "code",
   "execution_count": 40,
   "metadata": {},
   "outputs": [
    {
     "data": {
      "text/html": [
       "<div>\n",
       "<style scoped>\n",
       "    .dataframe tbody tr th:only-of-type {\n",
       "        vertical-align: middle;\n",
       "    }\n",
       "\n",
       "    .dataframe tbody tr th {\n",
       "        vertical-align: top;\n",
       "    }\n",
       "\n",
       "    .dataframe thead th {\n",
       "        text-align: right;\n",
       "    }\n",
       "</style>\n",
       "<table border=\"1\" class=\"dataframe\">\n",
       "  <thead>\n",
       "    <tr style=\"text-align: right;\">\n",
       "      <th></th>\n",
       "      <th>A</th>\n",
       "      <th>B</th>\n",
       "      <th>C</th>\n",
       "      <th>D</th>\n",
       "    </tr>\n",
       "  </thead>\n",
       "  <tbody>\n",
       "    <tr>\n",
       "      <th>2019-08-13</th>\n",
       "      <td>0.834236</td>\n",
       "      <td>-0.069451</td>\n",
       "      <td>-0.937412</td>\n",
       "      <td>-0.436187</td>\n",
       "    </tr>\n",
       "    <tr>\n",
       "      <th>2019-08-14</th>\n",
       "      <td>-0.720587</td>\n",
       "      <td>-0.628642</td>\n",
       "      <td>-0.011149</td>\n",
       "      <td>1.088234</td>\n",
       "    </tr>\n",
       "  </tbody>\n",
       "</table>\n",
       "</div>"
      ],
      "text/plain": [
       "                   A         B         C         D\n",
       "2019-08-13  0.834236 -0.069451 -0.937412 -0.436187\n",
       "2019-08-14 -0.720587 -0.628642 -0.011149  1.088234"
      ]
     },
     "execution_count": 40,
     "metadata": {},
     "output_type": "execute_result"
    }
   ],
   "source": [
    "# 데이터가 슬라이싱 되서 나온다 => 차원을 유지해야 하니까\n",
    "# a <= x <B\n",
    "df[1:3] # 1:3은 인덱스 값 기준"
   ]
  },
  {
   "cell_type": "code",
   "execution_count": 44,
   "metadata": {},
   "outputs": [
    {
     "data": {
      "text/html": [
       "<div>\n",
       "<style scoped>\n",
       "    .dataframe tbody tr th:only-of-type {\n",
       "        vertical-align: middle;\n",
       "    }\n",
       "\n",
       "    .dataframe tbody tr th {\n",
       "        vertical-align: top;\n",
       "    }\n",
       "\n",
       "    .dataframe thead th {\n",
       "        text-align: right;\n",
       "    }\n",
       "</style>\n",
       "<table border=\"1\" class=\"dataframe\">\n",
       "  <thead>\n",
       "    <tr style=\"text-align: right;\">\n",
       "      <th></th>\n",
       "      <th>A</th>\n",
       "      <th>B</th>\n",
       "      <th>C</th>\n",
       "      <th>D</th>\n",
       "    </tr>\n",
       "  </thead>\n",
       "  <tbody>\n",
       "    <tr>\n",
       "      <th>2019-08-13</th>\n",
       "      <td>0.834236</td>\n",
       "      <td>-0.069451</td>\n",
       "      <td>-0.937412</td>\n",
       "      <td>-0.436187</td>\n",
       "    </tr>\n",
       "    <tr>\n",
       "      <th>2019-08-14</th>\n",
       "      <td>-0.720587</td>\n",
       "      <td>-0.628642</td>\n",
       "      <td>-0.011149</td>\n",
       "      <td>1.088234</td>\n",
       "    </tr>\n",
       "    <tr>\n",
       "      <th>2019-08-15</th>\n",
       "      <td>-0.132426</td>\n",
       "      <td>-0.187330</td>\n",
       "      <td>0.404625</td>\n",
       "      <td>1.841952</td>\n",
       "    </tr>\n",
       "  </tbody>\n",
       "</table>\n",
       "</div>"
      ],
      "text/plain": [
       "                   A         B         C         D\n",
       "2019-08-13  0.834236 -0.069451 -0.937412 -0.436187\n",
       "2019-08-14 -0.720587 -0.628642 -0.011149  1.088234\n",
       "2019-08-15 -0.132426 -0.187330  0.404625  1.841952"
      ]
     },
     "execution_count": 44,
     "metadata": {},
     "output_type": "execute_result"
    }
   ],
   "source": [
    "# 슬라이싱을 하는데 인덱스 값이 아닌 실제 값으로 자르기\n",
    "# a<= x <= b\n",
    "df['2019-08-13':'2019-08-15']"
   ]
  },
  {
   "cell_type": "markdown",
   "metadata": {},
   "source": [
    "- 전통적인 인덱싱과 슬라이싱을 진행하면 표현의 한계점에 도달.\n",
    "- 이를 극복하기 위해서 pandas 만의 데이터 추출법이 추가가 되었다.\n",
    "- loc, iloc <= 2개를 주로 사용한다.\n",
    "- 연속데이터에 대한 추출  <-> 비연속 데이터들의 추출법(펜시인뎅싱, 쿼리수행등등)"
   ]
  },
  {
   "cell_type": "markdown",
   "metadata": {},
   "source": []
  },
  {
   "cell_type": "markdown",
   "metadata": {},
   "source": [
    "### loc"
   ]
  },
  {
   "cell_type": "code",
   "execution_count": 52,
   "metadata": {},
   "outputs": [
    {
     "data": {
      "text/plain": [
       "(A   -0.330440\n",
       " B   -0.996154\n",
       " C    0.465303\n",
       " D   -0.276850\n",
       " Name: 2019-08-12 00:00:00, dtype: float64, pandas.core.series.Series)"
      ]
     },
     "execution_count": 52,
     "metadata": {},
     "output_type": "execute_result"
    }
   ],
   "source": [
    "# loc : location 정보를 옵션으로 하여 슬라이싱 지원\n",
    "# loc을 통한 데이터추출\n",
    "# df.loc[ 인덱스명 ]\n",
    "df.loc['2019-08-12'], type(df.loc['2019-08-12'])"
   ]
  },
  {
   "cell_type": "code",
   "execution_count": 53,
   "metadata": {},
   "outputs": [
    {
     "data": {
      "text/html": [
       "<div>\n",
       "<style scoped>\n",
       "    .dataframe tbody tr th:only-of-type {\n",
       "        vertical-align: middle;\n",
       "    }\n",
       "\n",
       "    .dataframe tbody tr th {\n",
       "        vertical-align: top;\n",
       "    }\n",
       "\n",
       "    .dataframe thead th {\n",
       "        text-align: right;\n",
       "    }\n",
       "</style>\n",
       "<table border=\"1\" class=\"dataframe\">\n",
       "  <thead>\n",
       "    <tr style=\"text-align: right;\">\n",
       "      <th></th>\n",
       "      <th>A</th>\n",
       "      <th>B</th>\n",
       "      <th>C</th>\n",
       "      <th>D</th>\n",
       "    </tr>\n",
       "  </thead>\n",
       "  <tbody>\n",
       "    <tr>\n",
       "      <th>2019-08-12</th>\n",
       "      <td>-0.330440</td>\n",
       "      <td>-0.996154</td>\n",
       "      <td>0.465303</td>\n",
       "      <td>-0.276850</td>\n",
       "    </tr>\n",
       "    <tr>\n",
       "      <th>2019-08-13</th>\n",
       "      <td>0.834236</td>\n",
       "      <td>-0.069451</td>\n",
       "      <td>-0.937412</td>\n",
       "      <td>-0.436187</td>\n",
       "    </tr>\n",
       "    <tr>\n",
       "      <th>2019-08-14</th>\n",
       "      <td>-0.720587</td>\n",
       "      <td>-0.628642</td>\n",
       "      <td>-0.011149</td>\n",
       "      <td>1.088234</td>\n",
       "    </tr>\n",
       "    <tr>\n",
       "      <th>2019-08-15</th>\n",
       "      <td>-0.132426</td>\n",
       "      <td>-0.187330</td>\n",
       "      <td>0.404625</td>\n",
       "      <td>1.841952</td>\n",
       "    </tr>\n",
       "    <tr>\n",
       "      <th>2019-08-16</th>\n",
       "      <td>-0.380203</td>\n",
       "      <td>-0.068743</td>\n",
       "      <td>-0.159765</td>\n",
       "      <td>-0.459205</td>\n",
       "    </tr>\n",
       "    <tr>\n",
       "      <th>2019-08-17</th>\n",
       "      <td>-0.721555</td>\n",
       "      <td>0.908591</td>\n",
       "      <td>-0.948732</td>\n",
       "      <td>0.088193</td>\n",
       "    </tr>\n",
       "    <tr>\n",
       "      <th>2019-08-18</th>\n",
       "      <td>0.589387</td>\n",
       "      <td>-0.420041</td>\n",
       "      <td>-2.437085</td>\n",
       "      <td>0.709208</td>\n",
       "    </tr>\n",
       "  </tbody>\n",
       "</table>\n",
       "</div>"
      ],
      "text/plain": [
       "                   A         B         C         D\n",
       "2019-08-12 -0.330440 -0.996154  0.465303 -0.276850\n",
       "2019-08-13  0.834236 -0.069451 -0.937412 -0.436187\n",
       "2019-08-14 -0.720587 -0.628642 -0.011149  1.088234\n",
       "2019-08-15 -0.132426 -0.187330  0.404625  1.841952\n",
       "2019-08-16 -0.380203 -0.068743 -0.159765 -0.459205\n",
       "2019-08-17 -0.721555  0.908591 -0.948732  0.088193\n",
       "2019-08-18  0.589387 -0.420041 -2.437085  0.709208"
      ]
     },
     "execution_count": 53,
     "metadata": {},
     "output_type": "execute_result"
    }
   ],
   "source": [
    "# 원본 카피\n",
    "\n",
    "df.loc[:]"
   ]
  },
  {
   "cell_type": "code",
   "execution_count": 60,
   "metadata": {},
   "outputs": [
    {
     "data": {
      "text/html": [
       "<div>\n",
       "<style scoped>\n",
       "    .dataframe tbody tr th:only-of-type {\n",
       "        vertical-align: middle;\n",
       "    }\n",
       "\n",
       "    .dataframe tbody tr th {\n",
       "        vertical-align: top;\n",
       "    }\n",
       "\n",
       "    .dataframe thead th {\n",
       "        text-align: right;\n",
       "    }\n",
       "</style>\n",
       "<table border=\"1\" class=\"dataframe\">\n",
       "  <thead>\n",
       "    <tr style=\"text-align: right;\">\n",
       "      <th></th>\n",
       "      <th>A</th>\n",
       "      <th>C</th>\n",
       "    </tr>\n",
       "  </thead>\n",
       "  <tbody>\n",
       "    <tr>\n",
       "      <th>2019-08-12</th>\n",
       "      <td>-0.330440</td>\n",
       "      <td>0.465303</td>\n",
       "    </tr>\n",
       "    <tr>\n",
       "      <th>2019-08-13</th>\n",
       "      <td>0.834236</td>\n",
       "      <td>-0.937412</td>\n",
       "    </tr>\n",
       "    <tr>\n",
       "      <th>2019-08-14</th>\n",
       "      <td>-0.720587</td>\n",
       "      <td>-0.011149</td>\n",
       "    </tr>\n",
       "    <tr>\n",
       "      <th>2019-08-15</th>\n",
       "      <td>-0.132426</td>\n",
       "      <td>0.404625</td>\n",
       "    </tr>\n",
       "    <tr>\n",
       "      <th>2019-08-16</th>\n",
       "      <td>-0.380203</td>\n",
       "      <td>-0.159765</td>\n",
       "    </tr>\n",
       "    <tr>\n",
       "      <th>2019-08-17</th>\n",
       "      <td>-0.721555</td>\n",
       "      <td>-0.948732</td>\n",
       "    </tr>\n",
       "    <tr>\n",
       "      <th>2019-08-18</th>\n",
       "      <td>0.589387</td>\n",
       "      <td>-2.437085</td>\n",
       "    </tr>\n",
       "  </tbody>\n",
       "</table>\n",
       "</div>"
      ],
      "text/plain": [
       "                   A         C\n",
       "2019-08-12 -0.330440  0.465303\n",
       "2019-08-13  0.834236 -0.937412\n",
       "2019-08-14 -0.720587 -0.011149\n",
       "2019-08-15 -0.132426  0.404625\n",
       "2019-08-16 -0.380203 -0.159765\n",
       "2019-08-17 -0.721555 -0.948732\n",
       "2019-08-18  0.589387 -2.437085"
      ]
     },
     "execution_count": 60,
     "metadata": {},
     "output_type": "execute_result"
    }
   ],
   "source": [
    "# 인덱스쪽은 전부 포함시키고(1차원), 컬럼은 A,C만 포함(2차원)\n",
    "df.loc[ :,['A','C'] ]    # 인덱스, 컬럼 순으로 표현.   , 앞부분은 인덱스 , 뒷부분은 컬럼\n"
   ]
  },
  {
   "cell_type": "code",
   "execution_count": 66,
   "metadata": {},
   "outputs": [
    {
     "data": {
      "text/plain": [
       "(2019-08-12   -0.330440\n",
       " 2019-08-13    0.834236\n",
       " 2019-08-14   -0.720587\n",
       " 2019-08-15   -0.132426\n",
       " 2019-08-16   -0.380203\n",
       " 2019-08-17   -0.721555\n",
       " 2019-08-18    0.589387\n",
       " Freq: D, Name: A, dtype: float64, pandas.core.series.Series)"
      ]
     },
     "execution_count": 66,
     "metadata": {},
     "output_type": "execute_result"
    }
   ],
   "source": [
    "# 차원축소\n",
    "\n",
    "df.loc[: ,'A'] , type(df.loc[: ,'A'])"
   ]
  },
  {
   "cell_type": "code",
   "execution_count": 65,
   "metadata": {},
   "outputs": [
    {
     "data": {
      "text/plain": [
       "(2019-08-12   -0.330440\n",
       " 2019-08-13    0.834236\n",
       " 2019-08-14   -0.720587\n",
       " 2019-08-15   -0.132426\n",
       " 2019-08-16   -0.380203\n",
       " 2019-08-17   -0.721555\n",
       " 2019-08-18    0.589387\n",
       " Freq: D, Name: A, dtype: float64, pandas.core.frame.DataFrame)"
      ]
     },
     "execution_count": 65,
     "metadata": {},
     "output_type": "execute_result"
    }
   ],
   "source": [
    "# 차원유지\n",
    "\n",
    "df.loc[: ,['A']] , type(df.loc[: ,['A']])\n"
   ]
  },
  {
   "cell_type": "code",
   "execution_count": 68,
   "metadata": {},
   "outputs": [
    {
     "data": {
      "text/html": [
       "<div>\n",
       "<style scoped>\n",
       "    .dataframe tbody tr th:only-of-type {\n",
       "        vertical-align: middle;\n",
       "    }\n",
       "\n",
       "    .dataframe tbody tr th {\n",
       "        vertical-align: top;\n",
       "    }\n",
       "\n",
       "    .dataframe thead th {\n",
       "        text-align: right;\n",
       "    }\n",
       "</style>\n",
       "<table border=\"1\" class=\"dataframe\">\n",
       "  <thead>\n",
       "    <tr style=\"text-align: right;\">\n",
       "      <th></th>\n",
       "      <th>A</th>\n",
       "      <th>C</th>\n",
       "    </tr>\n",
       "  </thead>\n",
       "  <tbody>\n",
       "    <tr>\n",
       "      <th>2019-08-13</th>\n",
       "      <td>0.834236</td>\n",
       "      <td>-0.937412</td>\n",
       "    </tr>\n",
       "    <tr>\n",
       "      <th>2019-08-14</th>\n",
       "      <td>-0.720587</td>\n",
       "      <td>-0.011149</td>\n",
       "    </tr>\n",
       "    <tr>\n",
       "      <th>2019-08-15</th>\n",
       "      <td>-0.132426</td>\n",
       "      <td>0.404625</td>\n",
       "    </tr>\n",
       "  </tbody>\n",
       "</table>\n",
       "</div>"
      ],
      "text/plain": [
       "                   A         C\n",
       "2019-08-13  0.834236 -0.937412\n",
       "2019-08-14 -0.720587 -0.011149\n",
       "2019-08-15 -0.132426  0.404625"
      ]
     },
     "execution_count": 68,
     "metadata": {},
     "output_type": "execute_result"
    }
   ],
   "source": [
    "df.loc[ '2019-08-13':'2019-08-15',['A','C'] ] # 차원 유지 = 데이터프레임"
   ]
  },
  {
   "cell_type": "code",
   "execution_count": 81,
   "metadata": {},
   "outputs": [
    {
     "data": {
      "text/plain": [
       "A    0.834236\n",
       "C   -0.937412\n",
       "Name: 2019-08-13 00:00:00, dtype: float64"
      ]
     },
     "execution_count": 81,
     "metadata": {},
     "output_type": "execute_result"
    }
   ],
   "source": [
    "# 차원축소\n",
    "df.loc[ '2019-08-13', ['A','C']]"
   ]
  },
  {
   "cell_type": "code",
   "execution_count": 83,
   "metadata": {},
   "outputs": [
    {
     "data": {
      "text/html": [
       "<div>\n",
       "<style scoped>\n",
       "    .dataframe tbody tr th:only-of-type {\n",
       "        vertical-align: middle;\n",
       "    }\n",
       "\n",
       "    .dataframe tbody tr th {\n",
       "        vertical-align: top;\n",
       "    }\n",
       "\n",
       "    .dataframe thead th {\n",
       "        text-align: right;\n",
       "    }\n",
       "</style>\n",
       "<table border=\"1\" class=\"dataframe\">\n",
       "  <thead>\n",
       "    <tr style=\"text-align: right;\">\n",
       "      <th></th>\n",
       "      <th>A</th>\n",
       "      <th>C</th>\n",
       "    </tr>\n",
       "  </thead>\n",
       "  <tbody>\n",
       "    <tr>\n",
       "      <th>2019-08-13</th>\n",
       "      <td>0.834236</td>\n",
       "      <td>-0.937412</td>\n",
       "    </tr>\n",
       "  </tbody>\n",
       "</table>\n",
       "</div>"
      ],
      "text/plain": [
       "                   A         C\n",
       "2019-08-13  0.834236 -0.937412"
      ]
     },
     "execution_count": 83,
     "metadata": {},
     "output_type": "execute_result"
    }
   ],
   "source": [
    "# 차원유지\n",
    "df.loc[ '2019-08-13':'2019-08-13', ['A','C']]"
   ]
  },
  {
   "cell_type": "code",
   "execution_count": 80,
   "metadata": {},
   "outputs": [
    {
     "data": {
      "text/plain": [
       "-0.33043963588637304"
      ]
     },
     "execution_count": 80,
     "metadata": {},
     "output_type": "execute_result"
    }
   ],
   "source": [
    "# 차원축소가 2회 진행 -> 스칼라 (값)\n",
    "df.loc['2019-08-12','A']"
   ]
  },
  {
   "cell_type": "markdown",
   "metadata": {},
   "source": [
    "### iloc \n",
    "\n",
    "- 펜시인덱싱과 유사하다.\n",
    "- 행과 열의 번호를 이용하여 데이터를 접근하는 방식\n",
    "- i -> index"
   ]
  },
  {
   "cell_type": "code",
   "execution_count": 85,
   "metadata": {},
   "outputs": [
    {
     "data": {
      "text/plain": [
       "A    0.834236\n",
       "B   -0.069451\n",
       "C   -0.937412\n",
       "D   -0.436187\n",
       "Name: 2019-08-13 00:00:00, dtype: float64"
      ]
     },
     "execution_count": 85,
     "metadata": {},
     "output_type": "execute_result"
    }
   ],
   "source": [
    "# 2019-08-13wk epdlxj cncnf\n",
    "# 1 => 인덱스 값이 1인 데이터\n",
    "df.iloc[ 1 ]"
   ]
  },
  {
   "cell_type": "code",
   "execution_count": 94,
   "metadata": {},
   "outputs": [
    {
     "data": {
      "text/html": [
       "<div>\n",
       "<style scoped>\n",
       "    .dataframe tbody tr th:only-of-type {\n",
       "        vertical-align: middle;\n",
       "    }\n",
       "\n",
       "    .dataframe tbody tr th {\n",
       "        vertical-align: top;\n",
       "    }\n",
       "\n",
       "    .dataframe thead th {\n",
       "        text-align: right;\n",
       "    }\n",
       "</style>\n",
       "<table border=\"1\" class=\"dataframe\">\n",
       "  <thead>\n",
       "    <tr style=\"text-align: right;\">\n",
       "      <th></th>\n",
       "      <th>B</th>\n",
       "      <th>C</th>\n",
       "    </tr>\n",
       "  </thead>\n",
       "  <tbody>\n",
       "    <tr>\n",
       "      <th>2019-08-13</th>\n",
       "      <td>-0.069451</td>\n",
       "      <td>-0.937412</td>\n",
       "    </tr>\n",
       "    <tr>\n",
       "      <th>2019-08-14</th>\n",
       "      <td>-0.628642</td>\n",
       "      <td>-0.011149</td>\n",
       "    </tr>\n",
       "  </tbody>\n",
       "</table>\n",
       "</div>"
      ],
      "text/plain": [
       "                   B         C\n",
       "2019-08-13 -0.069451 -0.937412\n",
       "2019-08-14 -0.628642 -0.011149"
      ]
     },
     "execution_count": 94,
     "metadata": {},
     "output_type": "execute_result"
    }
   ],
   "source": [
    "# iloc 슬라이싱\n",
    "# a <= index < b, c <= column < d\n",
    "df.iloc[ 1:3, 1:3 ]"
   ]
  },
  {
   "cell_type": "code",
   "execution_count": 96,
   "metadata": {},
   "outputs": [
    {
     "data": {
      "text/html": [
       "<div>\n",
       "<style scoped>\n",
       "    .dataframe tbody tr th:only-of-type {\n",
       "        vertical-align: middle;\n",
       "    }\n",
       "\n",
       "    .dataframe tbody tr th {\n",
       "        vertical-align: top;\n",
       "    }\n",
       "\n",
       "    .dataframe thead th {\n",
       "        text-align: right;\n",
       "    }\n",
       "</style>\n",
       "<table border=\"1\" class=\"dataframe\">\n",
       "  <thead>\n",
       "    <tr style=\"text-align: right;\">\n",
       "      <th></th>\n",
       "      <th>B</th>\n",
       "      <th>A</th>\n",
       "      <th>C</th>\n",
       "    </tr>\n",
       "  </thead>\n",
       "  <tbody>\n",
       "    <tr>\n",
       "      <th>2019-08-13</th>\n",
       "      <td>-0.069451</td>\n",
       "      <td>0.834236</td>\n",
       "      <td>-0.937412</td>\n",
       "    </tr>\n",
       "    <tr>\n",
       "      <th>2019-08-16</th>\n",
       "      <td>-0.068743</td>\n",
       "      <td>-0.380203</td>\n",
       "      <td>-0.159765</td>\n",
       "    </tr>\n",
       "    <tr>\n",
       "      <th>2019-08-14</th>\n",
       "      <td>-0.628642</td>\n",
       "      <td>-0.720587</td>\n",
       "      <td>-0.011149</td>\n",
       "    </tr>\n",
       "  </tbody>\n",
       "</table>\n",
       "</div>"
      ],
      "text/plain": [
       "                   B         A         C\n",
       "2019-08-13 -0.069451  0.834236 -0.937412\n",
       "2019-08-16 -0.068743 -0.380203 -0.159765\n",
       "2019-08-14 -0.628642 -0.720587 -0.011149"
      ]
     },
     "execution_count": 96,
     "metadata": {},
     "output_type": "execute_result"
    }
   ],
   "source": [
    "# iloc + 펜시인덱싱 기법 사용 (인덱스, 컬럼을 비연속적 위치를 나열)\n",
    "df.iloc[ [1,4,2] , [1,0,2] ]"
   ]
  },
  {
   "cell_type": "code",
   "execution_count": 101,
   "metadata": {},
   "outputs": [
    {
     "data": {
      "text/html": [
       "<div>\n",
       "<style scoped>\n",
       "    .dataframe tbody tr th:only-of-type {\n",
       "        vertical-align: middle;\n",
       "    }\n",
       "\n",
       "    .dataframe tbody tr th {\n",
       "        vertical-align: top;\n",
       "    }\n",
       "\n",
       "    .dataframe thead th {\n",
       "        text-align: right;\n",
       "    }\n",
       "</style>\n",
       "<table border=\"1\" class=\"dataframe\">\n",
       "  <thead>\n",
       "    <tr style=\"text-align: right;\">\n",
       "      <th></th>\n",
       "      <th>A</th>\n",
       "      <th>B</th>\n",
       "      <th>C</th>\n",
       "      <th>D</th>\n",
       "    </tr>\n",
       "  </thead>\n",
       "  <tbody>\n",
       "    <tr>\n",
       "      <th>2019-08-12</th>\n",
       "      <td>-0.330440</td>\n",
       "      <td>-0.996154</td>\n",
       "      <td>0.465303</td>\n",
       "      <td>-0.276850</td>\n",
       "    </tr>\n",
       "    <tr>\n",
       "      <th>2019-08-15</th>\n",
       "      <td>-0.132426</td>\n",
       "      <td>-0.187330</td>\n",
       "      <td>0.404625</td>\n",
       "      <td>1.841952</td>\n",
       "    </tr>\n",
       "  </tbody>\n",
       "</table>\n",
       "</div>"
      ],
      "text/plain": [
       "                   A         B         C         D\n",
       "2019-08-12 -0.330440 -0.996154  0.465303 -0.276850\n",
       "2019-08-15 -0.132426 -0.187330  0.404625  1.841952"
      ]
     },
     "execution_count": 101,
     "metadata": {},
     "output_type": "execute_result"
    }
   ],
   "source": [
    "# 특정 조건에 만족하는 데이터만 추출\n",
    "# 데이터프레임이 생성되면 컬럼명은 맴버 변수로 자동생성됨( df. 찍고 탭 눌러보면 A,B,C,D가 뜬다.)\n",
    "# C 컬럼에 존재하는 데이터 중에 양수만( 양수면 True, 0이하면 False)\n",
    "# 조건을 부여하여 블리언 데이터를 만들어 참만 포함시키는 방식 : 블리언 인덱싱\n",
    "# [T, F, F, F, T, T, T] 데이터를 and하면 참만 살아나마서 아래와 같은 결과를 발생\n",
    "# df에 식을 치면 => 전체 구성원에 전부 다 연산이 진행된다.\n",
    "# 행렬 (연산) 값 => 각 구성원에 일일이 다 연산하는 것과 동일\n",
    "df[df.C > 0]"
   ]
  },
  {
   "cell_type": "code",
   "execution_count": 102,
   "metadata": {},
   "outputs": [
    {
     "data": {
      "text/html": [
       "<div>\n",
       "<style scoped>\n",
       "    .dataframe tbody tr th:only-of-type {\n",
       "        vertical-align: middle;\n",
       "    }\n",
       "\n",
       "    .dataframe tbody tr th {\n",
       "        vertical-align: top;\n",
       "    }\n",
       "\n",
       "    .dataframe thead th {\n",
       "        text-align: right;\n",
       "    }\n",
       "</style>\n",
       "<table border=\"1\" class=\"dataframe\">\n",
       "  <thead>\n",
       "    <tr style=\"text-align: right;\">\n",
       "      <th></th>\n",
       "      <th>A</th>\n",
       "      <th>B</th>\n",
       "      <th>C</th>\n",
       "      <th>D</th>\n",
       "    </tr>\n",
       "  </thead>\n",
       "  <tbody>\n",
       "    <tr>\n",
       "      <th>2019-08-12</th>\n",
       "      <td>NaN</td>\n",
       "      <td>NaN</td>\n",
       "      <td>0.465303</td>\n",
       "      <td>NaN</td>\n",
       "    </tr>\n",
       "    <tr>\n",
       "      <th>2019-08-13</th>\n",
       "      <td>0.834236</td>\n",
       "      <td>NaN</td>\n",
       "      <td>NaN</td>\n",
       "      <td>NaN</td>\n",
       "    </tr>\n",
       "    <tr>\n",
       "      <th>2019-08-14</th>\n",
       "      <td>NaN</td>\n",
       "      <td>NaN</td>\n",
       "      <td>NaN</td>\n",
       "      <td>1.088234</td>\n",
       "    </tr>\n",
       "    <tr>\n",
       "      <th>2019-08-15</th>\n",
       "      <td>NaN</td>\n",
       "      <td>NaN</td>\n",
       "      <td>0.404625</td>\n",
       "      <td>1.841952</td>\n",
       "    </tr>\n",
       "    <tr>\n",
       "      <th>2019-08-16</th>\n",
       "      <td>NaN</td>\n",
       "      <td>NaN</td>\n",
       "      <td>NaN</td>\n",
       "      <td>NaN</td>\n",
       "    </tr>\n",
       "    <tr>\n",
       "      <th>2019-08-17</th>\n",
       "      <td>NaN</td>\n",
       "      <td>0.908591</td>\n",
       "      <td>NaN</td>\n",
       "      <td>0.088193</td>\n",
       "    </tr>\n",
       "    <tr>\n",
       "      <th>2019-08-18</th>\n",
       "      <td>0.589387</td>\n",
       "      <td>NaN</td>\n",
       "      <td>NaN</td>\n",
       "      <td>0.709208</td>\n",
       "    </tr>\n",
       "  </tbody>\n",
       "</table>\n",
       "</div>"
      ],
      "text/plain": [
       "                   A         B         C         D\n",
       "2019-08-12       NaN       NaN  0.465303       NaN\n",
       "2019-08-13  0.834236       NaN       NaN       NaN\n",
       "2019-08-14       NaN       NaN       NaN  1.088234\n",
       "2019-08-15       NaN       NaN  0.404625  1.841952\n",
       "2019-08-16       NaN       NaN       NaN       NaN\n",
       "2019-08-17       NaN  0.908591       NaN  0.088193\n",
       "2019-08-18  0.589387       NaN       NaN  0.709208"
      ]
     },
     "execution_count": 102,
     "metadata": {},
     "output_type": "execute_result"
    }
   ],
   "source": [
    "# 데이터 전체를 기준으로 0보다 큰가? 0보다 같거나 작은 데이터들은? ==> Nan으로 대체\n",
    "df[df > 0]"
   ]
  },
  {
   "cell_type": "code",
   "execution_count": 104,
   "metadata": {},
   "outputs": [
    {
     "data": {
      "text/plain": [
       "(                   A         B         C         D\n",
       " 2019-08-12 -0.330440 -0.996154  0.465303 -0.276850\n",
       " 2019-08-13  0.834236 -0.069451 -0.937412 -0.436187\n",
       " 2019-08-14 -0.720587 -0.628642 -0.011149  1.088234\n",
       " 2019-08-15 -0.132426 -0.187330  0.404625  1.841952\n",
       " 2019-08-16 -0.380203 -0.068743 -0.159765 -0.459205\n",
       " 2019-08-17 -0.721555  0.908591 -0.948732  0.088193\n",
       " 2019-08-18  0.589387 -0.420041 -2.437085  0.709208,\n",
       "                    A         B         C         D\n",
       " 2019-08-12 -0.330440 -0.996154  0.465303 -0.276850\n",
       " 2019-08-13  0.834236 -0.069451 -0.937412 -0.436187\n",
       " 2019-08-14 -0.720587 -0.628642 -0.011149  1.088234\n",
       " 2019-08-15 -0.132426 -0.187330  0.404625  1.841952\n",
       " 2019-08-16 -0.380203 -0.068743 -0.159765 -0.459205\n",
       " 2019-08-17 -0.721555  0.908591 -0.948732  0.088193\n",
       " 2019-08-18  0.589387 -0.420041 -2.437085  0.709208)"
      ]
     },
     "execution_count": 104,
     "metadata": {},
     "output_type": "execute_result"
    }
   ],
   "source": [
    "# 복사\n",
    "df.copy(), df[:]"
   ]
  },
  {
   "cell_type": "code",
   "execution_count": 107,
   "metadata": {},
   "outputs": [],
   "source": [
    "# 기존데이터 df에 새로운 컬럼을 추가한다!! (아주 중요) => 파생변수\n",
    "# 기존 df의 1차원과 동수의 데이터가 존재해야 한다.\n",
    "# 데이터는 리스트 ok, Series도 ok\n",
    "new_data = ['one','one','two','three','four','five','five']\n",
    "# 데이터 추가, 대상[ 신규컬럼명 ] = 데이터\n",
    "df['E'] = new_data"
   ]
  },
  {
   "cell_type": "code",
   "execution_count": 108,
   "metadata": {},
   "outputs": [
    {
     "data": {
      "text/html": [
       "<div>\n",
       "<style scoped>\n",
       "    .dataframe tbody tr th:only-of-type {\n",
       "        vertical-align: middle;\n",
       "    }\n",
       "\n",
       "    .dataframe tbody tr th {\n",
       "        vertical-align: top;\n",
       "    }\n",
       "\n",
       "    .dataframe thead th {\n",
       "        text-align: right;\n",
       "    }\n",
       "</style>\n",
       "<table border=\"1\" class=\"dataframe\">\n",
       "  <thead>\n",
       "    <tr style=\"text-align: right;\">\n",
       "      <th></th>\n",
       "      <th>A</th>\n",
       "      <th>B</th>\n",
       "      <th>C</th>\n",
       "      <th>D</th>\n",
       "      <th>E</th>\n",
       "    </tr>\n",
       "  </thead>\n",
       "  <tbody>\n",
       "    <tr>\n",
       "      <th>2019-08-12</th>\n",
       "      <td>-0.330440</td>\n",
       "      <td>-0.996154</td>\n",
       "      <td>0.465303</td>\n",
       "      <td>-0.276850</td>\n",
       "      <td>one</td>\n",
       "    </tr>\n",
       "    <tr>\n",
       "      <th>2019-08-13</th>\n",
       "      <td>0.834236</td>\n",
       "      <td>-0.069451</td>\n",
       "      <td>-0.937412</td>\n",
       "      <td>-0.436187</td>\n",
       "      <td>one</td>\n",
       "    </tr>\n",
       "    <tr>\n",
       "      <th>2019-08-14</th>\n",
       "      <td>-0.720587</td>\n",
       "      <td>-0.628642</td>\n",
       "      <td>-0.011149</td>\n",
       "      <td>1.088234</td>\n",
       "      <td>two</td>\n",
       "    </tr>\n",
       "    <tr>\n",
       "      <th>2019-08-15</th>\n",
       "      <td>-0.132426</td>\n",
       "      <td>-0.187330</td>\n",
       "      <td>0.404625</td>\n",
       "      <td>1.841952</td>\n",
       "      <td>three</td>\n",
       "    </tr>\n",
       "    <tr>\n",
       "      <th>2019-08-16</th>\n",
       "      <td>-0.380203</td>\n",
       "      <td>-0.068743</td>\n",
       "      <td>-0.159765</td>\n",
       "      <td>-0.459205</td>\n",
       "      <td>four</td>\n",
       "    </tr>\n",
       "    <tr>\n",
       "      <th>2019-08-17</th>\n",
       "      <td>-0.721555</td>\n",
       "      <td>0.908591</td>\n",
       "      <td>-0.948732</td>\n",
       "      <td>0.088193</td>\n",
       "      <td>five</td>\n",
       "    </tr>\n",
       "    <tr>\n",
       "      <th>2019-08-18</th>\n",
       "      <td>0.589387</td>\n",
       "      <td>-0.420041</td>\n",
       "      <td>-2.437085</td>\n",
       "      <td>0.709208</td>\n",
       "      <td>five</td>\n",
       "    </tr>\n",
       "  </tbody>\n",
       "</table>\n",
       "</div>"
      ],
      "text/plain": [
       "                   A         B         C         D      E\n",
       "2019-08-12 -0.330440 -0.996154  0.465303 -0.276850    one\n",
       "2019-08-13  0.834236 -0.069451 -0.937412 -0.436187    one\n",
       "2019-08-14 -0.720587 -0.628642 -0.011149  1.088234    two\n",
       "2019-08-15 -0.132426 -0.187330  0.404625  1.841952  three\n",
       "2019-08-16 -0.380203 -0.068743 -0.159765 -0.459205   four\n",
       "2019-08-17 -0.721555  0.908591 -0.948732  0.088193   five\n",
       "2019-08-18  0.589387 -0.420041 -2.437085  0.709208   five"
      ]
     },
     "execution_count": 108,
     "metadata": {},
     "output_type": "execute_result"
    }
   ],
   "source": [
    "df"
   ]
  },
  {
   "cell_type": "code",
   "execution_count": 113,
   "metadata": {},
   "outputs": [
    {
     "data": {
      "text/plain": [
       "2019-08-12    False\n",
       "2019-08-13    False\n",
       "2019-08-14     True\n",
       "2019-08-15    False\n",
       "2019-08-16     True\n",
       "2019-08-17    False\n",
       "2019-08-18    False\n",
       "Freq: D, Name: E, dtype: bool"
      ]
     },
     "execution_count": 113,
     "metadata": {},
     "output_type": "execute_result"
    }
   ],
   "source": [
    "# 데이터 조사\n",
    "# 안에 그런 값이 있는가?  => False, True\n",
    "df['E'].isin(['two','four'])"
   ]
  },
  {
   "cell_type": "code",
   "execution_count": 114,
   "metadata": {},
   "outputs": [
    {
     "data": {
      "text/html": [
       "<div>\n",
       "<style scoped>\n",
       "    .dataframe tbody tr th:only-of-type {\n",
       "        vertical-align: middle;\n",
       "    }\n",
       "\n",
       "    .dataframe tbody tr th {\n",
       "        vertical-align: top;\n",
       "    }\n",
       "\n",
       "    .dataframe thead th {\n",
       "        text-align: right;\n",
       "    }\n",
       "</style>\n",
       "<table border=\"1\" class=\"dataframe\">\n",
       "  <thead>\n",
       "    <tr style=\"text-align: right;\">\n",
       "      <th></th>\n",
       "      <th>A</th>\n",
       "      <th>B</th>\n",
       "      <th>C</th>\n",
       "      <th>D</th>\n",
       "      <th>E</th>\n",
       "    </tr>\n",
       "  </thead>\n",
       "  <tbody>\n",
       "    <tr>\n",
       "      <th>2019-08-14</th>\n",
       "      <td>-0.720587</td>\n",
       "      <td>-0.628642</td>\n",
       "      <td>-0.011149</td>\n",
       "      <td>1.088234</td>\n",
       "      <td>two</td>\n",
       "    </tr>\n",
       "    <tr>\n",
       "      <th>2019-08-16</th>\n",
       "      <td>-0.380203</td>\n",
       "      <td>-0.068743</td>\n",
       "      <td>-0.159765</td>\n",
       "      <td>-0.459205</td>\n",
       "      <td>four</td>\n",
       "    </tr>\n",
       "  </tbody>\n",
       "</table>\n",
       "</div>"
      ],
      "text/plain": [
       "                   A         B         C         D     E\n",
       "2019-08-14 -0.720587 -0.628642 -0.011149  1.088234   two\n",
       "2019-08-16 -0.380203 -0.068743 -0.159765 -0.459205  four"
      ]
     },
     "execution_count": 114,
     "metadata": {},
     "output_type": "execute_result"
    }
   ],
   "source": [
    "df[df['E'].isin(['two','four'])]"
   ]
  },
  {
   "cell_type": "code",
   "execution_count": 116,
   "metadata": {},
   "outputs": [
    {
     "data": {
      "text/html": [
       "<div>\n",
       "<style scoped>\n",
       "    .dataframe tbody tr th:only-of-type {\n",
       "        vertical-align: middle;\n",
       "    }\n",
       "\n",
       "    .dataframe tbody tr th {\n",
       "        vertical-align: top;\n",
       "    }\n",
       "\n",
       "    .dataframe thead th {\n",
       "        text-align: right;\n",
       "    }\n",
       "</style>\n",
       "<table border=\"1\" class=\"dataframe\">\n",
       "  <thead>\n",
       "    <tr style=\"text-align: right;\">\n",
       "      <th></th>\n",
       "      <th>A</th>\n",
       "      <th>B</th>\n",
       "      <th>C</th>\n",
       "      <th>D</th>\n",
       "      <th>E</th>\n",
       "    </tr>\n",
       "  </thead>\n",
       "  <tbody>\n",
       "    <tr>\n",
       "      <th>2019-08-12</th>\n",
       "      <td>-0.330440</td>\n",
       "      <td>-0.996154</td>\n",
       "      <td>0.465303</td>\n",
       "      <td>-0.276850</td>\n",
       "      <td>one</td>\n",
       "    </tr>\n",
       "    <tr>\n",
       "      <th>2019-08-13</th>\n",
       "      <td>0.503797</td>\n",
       "      <td>-1.065604</td>\n",
       "      <td>-0.472109</td>\n",
       "      <td>-0.713037</td>\n",
       "      <td>oneone</td>\n",
       "    </tr>\n",
       "    <tr>\n",
       "      <th>2019-08-14</th>\n",
       "      <td>-0.216790</td>\n",
       "      <td>-1.694246</td>\n",
       "      <td>-0.483259</td>\n",
       "      <td>0.375196</td>\n",
       "      <td>oneonetwo</td>\n",
       "    </tr>\n",
       "    <tr>\n",
       "      <th>2019-08-15</th>\n",
       "      <td>-0.349217</td>\n",
       "      <td>-1.881576</td>\n",
       "      <td>-0.078634</td>\n",
       "      <td>2.217148</td>\n",
       "      <td>oneonetwothree</td>\n",
       "    </tr>\n",
       "    <tr>\n",
       "      <th>2019-08-16</th>\n",
       "      <td>-0.729420</td>\n",
       "      <td>-1.950320</td>\n",
       "      <td>-0.238399</td>\n",
       "      <td>1.757943</td>\n",
       "      <td>oneonetwothreefour</td>\n",
       "    </tr>\n",
       "    <tr>\n",
       "      <th>2019-08-17</th>\n",
       "      <td>-1.450975</td>\n",
       "      <td>-1.041728</td>\n",
       "      <td>-1.187131</td>\n",
       "      <td>1.846136</td>\n",
       "      <td>oneonetwothreefourfive</td>\n",
       "    </tr>\n",
       "    <tr>\n",
       "      <th>2019-08-18</th>\n",
       "      <td>-0.861588</td>\n",
       "      <td>-1.461769</td>\n",
       "      <td>-3.624215</td>\n",
       "      <td>2.555344</td>\n",
       "      <td>oneonetwothreefourfivefive</td>\n",
       "    </tr>\n",
       "  </tbody>\n",
       "</table>\n",
       "</div>"
      ],
      "text/plain": [
       "                   A         B         C         D                           E\n",
       "2019-08-12 -0.330440 -0.996154  0.465303 -0.276850                         one\n",
       "2019-08-13  0.503797 -1.065604 -0.472109 -0.713037                      oneone\n",
       "2019-08-14 -0.216790 -1.694246 -0.483259  0.375196                   oneonetwo\n",
       "2019-08-15 -0.349217 -1.881576 -0.078634  2.217148              oneonetwothree\n",
       "2019-08-16 -0.729420 -1.950320 -0.238399  1.757943          oneonetwothreefour\n",
       "2019-08-17 -1.450975 -1.041728 -1.187131  1.846136      oneonetwothreefourfive\n",
       "2019-08-18 -0.861588 -1.461769 -3.624215  2.555344  oneonetwothreefourfivefive"
      ]
     },
     "execution_count": 116,
     "metadata": {},
     "output_type": "execute_result"
    }
   ],
   "source": [
    "# 누적값 \n",
    "# apply ( 함수를 표현 ) => 맴버들을 다 건드린다.\n",
    "df.apply(np.cumsum)"
   ]
  },
  {
   "cell_type": "code",
   "execution_count": null,
   "metadata": {},
   "outputs": [],
   "source": []
  }
 ],
 "metadata": {
  "kernelspec": {
   "display_name": "Python 3",
   "language": "python",
   "name": "python3"
  },
  "language_info": {
   "codemirror_mode": {
    "name": "ipython",
    "version": 3
   },
   "file_extension": ".py",
   "mimetype": "text/x-python",
   "name": "python",
   "nbconvert_exporter": "python",
   "pygments_lexer": "ipython3",
   "version": "3.6.9"
  }
 },
 "nbformat": 4,
 "nbformat_minor": 2
}
